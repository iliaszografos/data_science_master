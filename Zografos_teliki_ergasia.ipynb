{
  "nbformat": 4,
  "nbformat_minor": 0,
  "metadata": {
    "colab": {
      "name": "Final_Project.ipynb",
      "provenance": [],
      "collapsed_sections": []
    },
    "kernelspec": {
      "display_name": "Python 3",
      "name": "python3"
    },
    "language_info": {
      "name": "python"
    }
  },
  "cells": [
    {
      "cell_type": "markdown",
      "metadata": {
        "id": "foOBTKhW6Uwv"
      },
      "source": [
        "## Final Project - Data Journalism"
      ]
    },
    {
      "cell_type": "markdown",
      "metadata": {
        "id": "NSE5h4X1hCf6"
      },
      "source": [
        "**Σύντομη περιγραφή της εργασίας**: Στόχος αυτής της εργασίας είναι να γίνει μια συγκριτική ανάλυση στο τι έχει γραφτεί για το εμβόλιο της Pfizer και της AstraZeneca τις τελευταίες μέρες του μήνα. Η συλλογή των δεδομένων έχει γίνει από το site της [Lifo](https://www.lifo.gr/) μέσω scraping με Beautiful Soup αλλά και από το Twitter μέσω των hashtags #[ΑστραΖένεκα](https://twitter.com/search?q=%CE%91%CF%83%CF%84%CF%81%CE%B1%CE%96%CE%AD%CE%BD%CE%B5%CE%BA%CE%B1&src=typed_query) και #[Φάιζερ](https://twitter.com/search?q=%CE%A6%CE%B1%CE%B9%CE%B6%CE%B5%CF%81&src=typed_query)."
      ]
    },
    {
      "cell_type": "markdown",
      "metadata": {
        "id": "LtgowznN6gSu"
      },
      "source": [
        "Εκφώνηση Εργασίας: Στo πλαίσιo της τελικής εργασίας σας, ζητείται να αναλύσετε ένα μεγάλο αριθμό δεδομένων\n",
        "(N>500) τα οποία αναφέρονται σε ένα ελληνικό θέμα και συγκεκριμένα στην ελληνική\n",
        "ειδησεογραφία με θέμα την Covid-19, με το σύνολο (ή ένα μέρος) των δεδομένων να έχουν\n",
        "εξορυχθεί από το διαδίκτυο με τεχνικές scraping (Beautiful Soup). Μπορείτε επίσης να\n",
        "συγκεντρώσετε για την ίδια χρονική περίοδο tweets (και με χρήση workbench). Για την ανάλυση\n",
        "των δεδομένων σας θα πρέπει να κάνετε τα παρακάτω βήματα επεξεργασίας:"
      ]
    },
    {
      "cell_type": "markdown",
      "metadata": {
        "id": "aiBhrOFe6xlm"
      },
      "source": [
        "1. Να εξορύξετε τα δεδομένα σας με χρήση των παραπάνω τεχνικών."
      ]
    },
    {
      "cell_type": "markdown",
      "metadata": {
        "id": "r0XrBsVUhH_P"
      },
      "source": [
        "## Άρθρα για το εμβόλιο AstraZeneca"
      ]
    },
    {
      "cell_type": "code",
      "metadata": {
        "id": "yhNpL26t6Oo-"
      },
      "source": [
        "# Εισάγουμε τις βιβλιοθήκες \n",
        "\n",
        "import requests\n",
        "from bs4 import BeautifulSoup"
      ],
      "execution_count": 169,
      "outputs": []
    },
    {
      "cell_type": "code",
      "metadata": {
        "id": "jd0idVAi619X"
      },
      "source": [
        "# Κατεβάζουμε την ιστοσελίδα (τα άρθρα με το tag AstraZeneca) και την εισάγουμε στη Beautiful Soup\n",
        "\n",
        "response = requests.get('https://www.lifo.gr/tags/astrazeneca')\n",
        "doc = BeautifulSoup(response.text, 'html.parser')"
      ],
      "execution_count": 170,
      "outputs": []
    },
    {
      "cell_type": "code",
      "metadata": {
        "colab": {
          "base_uri": "https://localhost:8080/"
        },
        "id": "vZedl18262Ag",
        "outputId": "d4b7c152-717e-48d6-c203-ef5adc9c1469"
      },
      "source": [
        "# Δημιουργούμε μια λίστα με όλα τα άρθρα που έχουν το συγκεκριμένο tag\n",
        "\n",
        "lifo_stories_astrazeneca = doc.find_all('div', {'class': 'news-relevants-content'})\n",
        "for story in lifo_stories_astrazeneca: \n",
        "  print(story.text)"
      ],
      "execution_count": 171,
      "outputs": [
        {
          "output_type": "stream",
          "text": [
            "   Διεθνή   EMA: Νέα προειδοποίηση για παρενέργειες μετά από εμβολιασμό με AstraZeneca και Johnson & Johnson    The LiFO team  9.7.2021   «Πολύ νωρίς για να αποφασισθεί αν θα χρειασθεί η χορήγηση περισσότερων των δύο δόσεων των εμβολίων κατά της Covid»  THE LIFO TEAM            \n",
            "   Τech & Science   Έρευνα: Η ανάμιξη εμβολίων παρέχει καλή προστασία από τον κορωνοϊό- Ο «καλύτερος» συνδυασμός    The LiFO team  29.6.2021   Η ανάμιξη διαφορετικών εμβολίων κατά της Covid-19 παρέχει καλή προστασία, επιβεβαιώνει νέα βρετανική έρευνα  THE LIFO TEAM            \n",
            "   Ελλάδα   ΕΟΦ: Η αντένδειξη για το εμβόλιο της AstraZeneca από τον ΕΜΑ    The LiFO team  28.6.2021   Η επικαιροποίηση των οδηγιών για το εμβόλιο της AstraZeneca, για το σύνδρομο διαφυγής τριχοειδών  THE LIFO TEAM            \n",
            "   Διεθνή   Θεόδωρος Βασιλακόπουλος: «Αν δεν χτίσουμε τείχος ανοσίας, είναι βέβαιο το 4ο κύμα πανδημίας»    Γιάννης Πανταζόπουλος  22.6.2021   Μιλά στη LiFO ο καθηγητής Πνευμονολογίας - Εντατικής Θεραπείας Ιατρικής Σχολής Πανεπιστημίου Αθηνών.  ΓΙΑΝΝΗΣ ΠΑΝΤΑΖΟΠΟΥΛΟΣ            \n",
            "   Διεθνή   Εμβόλιο AstraZeneca: Εντολή δικαστηρίου να παραδοθούν 50 εκατ. δόσεις στην ΕΕ έως τα τέλη Σεπτεμβρίου    The LiFO team  19.6.2021   «Νίκη» βλέπουν τόσο η εταιρεία όσο και η Κομισιόν στην απόφαση  THE LIFO TEAM            \n",
            "   Τι διαβάζουμε σήμερα   Tο AstraZeneca και η κακή επικοινωνιακή διαχείριση    Κώστας Αναγνωστόπουλος  16.6.2021   Σήμερα: Τέχνη της Γης στις ακρογιαλιές • • • κάκιστη επικοινωνιακή διαχείριση • • • καταδίκη του ΙΚΕΑ Γαλλίας για κατασκοπεία εργαζομένων του • • • σαν να υπάρχει άγαλμα του Χίτλερ στο Βερολίνο • • • αλεξιπτωτιστής εναντίον θεατών • • • η πρώτη σκεπτόμενη μηχανή • • • τοστιέρες του μεσοπολέμου  ΚΩΣΤΑΣ ΑΝΑΓΝΩΣΤΟΠΟΥΛΟΣ            \n",
            "   Ελλάδα   Επίσημο: AstraZeneca μόνο σε άνω των 60 ετών - Ποιοι δεν πρέπει να κάνουν τη δεύτερη δόση του εμβολίου    The LiFO team  14.6.2021   Συστάσεις από την Εθνική Επιτροπή εμβολιασμών  THE LIFO TEAM            \n",
            "   Διεθνή   Αξιωματούχος ΕΜΑ: «Όχι» AstraZeneca στους 60+ τώρα που υπάρχουν περισσότερα εμβόλια mRNA    The LiFO team  13.6.2021   Υπέρ της χρήσης εμβολίων τεχνολογίας mRNA  THE LIFO TEAM            \n",
            "   Διεθνή   ΗΠΑ: Περίπου 60 εκατομμύρια δόσεις του εμβολίου της Johnson & Johnson θα πεταχτούν ως ακατάλληλες    The LiFO team  12.6.2021   Τον Μάρτιο συστατικά του εμβολίου AstraZeneca αναμίχθηκαν κατά λάθος με του Johnson & Johnson  THE LIFO TEAM            \n",
            "   Ελλάδα   ΕΟΦ: Οι επιπλέον οδηγίες του ΕΜΑ για το εμβόλιο AstraZeneca και τις θρομβώσεις    The LiFO team  2.6.2021   Η ανακοίνωση του ΕΟΦ μετά την επικαιροποίηση των οδηγιών του ΕΜΑ  THE LIFO TEAM            \n",
            "   Ελλάδα   Κρήτη: Νεκρή η 44χρονη που νοσηλευόταν μετά τον εμβολιασμό της    The LiFO team  31.5.2021   Οι γιατροί αποσωλήνωσαν την γυναίκα καθώς ήταν εγκεφαλικά νεκρή  THE LIFO TEAM            \n",
            "   Ελλάδα   Βασιλακόπουλος: Ελάχιστη η πιθανότητα για θρόμβωση ή κάποια επιπλοκή στην δεύτερη δόση του AstraZeneca    The LiFO team  27.5.2021   Εξήγησε ότι ακόμα και η αντίδραση στην πρώτη δόση είναι σπάνια  THE LIFO TEAM            \n",
            "   Διεθνή   Η Κύπρος συστήνει εμβόλια mRNA για τους κάτω των 50 ετών - «Στροφή» από το AstraZeneca    The LiFO team  27.5.2021   Και με τη δεύτερη δόση του AstraZeneca όσοι δεν εμφάνισαν συμπτώματα  THE LIFO TEAM            \n",
            "   Διεθνή   Θρομβώσεις από εμβόλια AstraZeneca και J&J: Επιστήμονες πιστεύουν ότι έλυσαν τον γρίφο    The LiFO team  27.5.2021   Τα εμβόλια θα μπορούσαν να τροποποιηθούν σύμφωνα με ερευνητές  THE LIFO TEAM            \n",
            "   Διεθνή   Εμβόλιο AstraZeneca: Η ΕΕ προσπαθεί να εξασφαλίσει δικαστική εντολή για άμεση παράδοση δόσεων    The LiFO team  26.5.2021   Στα δικαστήρια η διαμάχη της ΕΕ με την AstraZeneca  THE LIFO TEAM            \n",
            "   Ελλάδα   Διακομιδή 36χρονης από τη Λέσβο με συμπτώματα θρόμβωσης    The LiFO team  25.5.2021   Σύμφωνα με πληροφορίες είχε εμβολιαστεί πριν από δέκα ημέρες  THE LIFO TEAM            \n",
            "   Ελλάδα   Ηράκλειο: Σταθερά κρίσιμη η κατάσταση της 44χρονης- Στη ΜΕΘ μετά τον εμβολιασμό της με AstraZeneca    The LiFO team  22.5.2021   Η γυναίκα φέρεται να παρουσίασε συμπτώματα του συνδρόμου vitt, που αναφέρονται ως πιθανές επιπλοκές του εμβολίου  THE LIFO TEAM            \n",
            "   Διεθνή   Μαλάουι: Στην «πυρά» χιλιάδες δόσεις εμβολίου κατά του κορωνοϊού    The LiFO team  19.5.2021   Οι υγειονομικές αρχές ευελπιστούν πως η καύση των ληγμένων δόσεων θα ενισχύσει την εμπιστοσύνη των πολιτών στα εμβόλια.  THE LIFO TEAM            \n",
            "   Ελλάδα   Δεύτερη θρόμβωση για 35χρονο στην Κρήτη μετά από εμβολιασμό - Τι λέει ο διοικητής του ΠΑΓΝΗ    The LiFO team  16.5.2021   Ο νέος άνδρας είχε εμβολιαστεί με AstraZeneca  THE LIFO TEAM            \n",
            "   Διεθνή   Financial Times: Αναφορές ότι το εμβόλιο της AstraZeneca προστατεύει από την ινδική μετάλλαξη    The LiFO team  13.5.2021   Ο Παγκόσμιος Οργανισμός Υγείας κάνει λόγο για μια ανησυχητική μετάλλαξη  THE LIFO TEAM            \n"
          ],
          "name": "stdout"
        }
      ]
    },
    {
      "cell_type": "code",
      "metadata": {
        "colab": {
          "base_uri": "https://localhost:8080/"
        },
        "id": "NEORHc-_D1pE",
        "outputId": "1517baa5-7752-4601-cbcb-3a06b21a91da"
      },
      "source": [
        "# Πρώτον, χρησιμοποιούμε το doc για να πάρουμε την είδηση \n",
        "\n",
        "lifo_stories_astrazeneca = doc.find_all('div', {'class': 'news-relevants-content'})\n",
        "for story in lifo_stories_astrazeneca:\n",
        "  print(\"This is a story\")"
      ],
      "execution_count": 172,
      "outputs": [
        {
          "output_type": "stream",
          "text": [
            "This is a story\n",
            "This is a story\n",
            "This is a story\n",
            "This is a story\n",
            "This is a story\n",
            "This is a story\n",
            "This is a story\n",
            "This is a story\n",
            "This is a story\n",
            "This is a story\n",
            "This is a story\n",
            "This is a story\n",
            "This is a story\n",
            "This is a story\n",
            "This is a story\n",
            "This is a story\n",
            "This is a story\n",
            "This is a story\n",
            "This is a story\n",
            "This is a story\n"
          ],
          "name": "stdout"
        }
      ]
    },
    {
      "cell_type": "code",
      "metadata": {
        "colab": {
          "base_uri": "https://localhost:8080/"
        },
        "id": "nor_aDfxD1uw",
        "outputId": "6f471269-6f3e-4fd0-b434-a1c36dec7bee"
      },
      "source": [
        "# Δεύτερον, χρησιμοποιούμε την είδηση για να πάρουμε τον τίτλο και το link του άρθρου\n",
        "\n",
        "lifo_stories_astrazeneca = doc.find_all('div', {'class': 'news-relevants-content'})\n",
        "for story in lifo_stories_astrazeneca:\n",
        "  print(\"This is a story\")\n",
        "  headline = story.find('h3')\n",
        "  print(headline.text)\n",
        "  link = story.find('a')\n",
        "  print(link['href'])\n",
        "  \n",
        "  headlines = doc.find_all('h3')\n",
        "\n",
        "for headline in headlines: \n",
        "  print(headline.text)"
      ],
      "execution_count": 173,
      "outputs": [
        {
          "output_type": "stream",
          "text": [
            "This is a story\n",
            "  Διεθνή   EMA: Νέα προειδοποίηση για παρενέργειες μετά από εμβολιασμό με AstraZeneca και Johnson & Johnson \n",
            "https://www.lifo.gr/now/world/emboliasmos-nees-proeidopoiiseis-ema-gia-tis-parenergeies-se-astrazeneca-johnson-johnson\n",
            "This is a story\n",
            "  Τech & Science   Έρευνα: Η ανάμιξη εμβολίων παρέχει καλή προστασία από τον κορωνοϊό- Ο «καλύτερος» συνδυασμός \n",
            "https://www.lifo.gr/now/tech-science/ereyna-i-anamixi-embolion-parehei-kali-prostasia-apo-ton-koronoio-o-kalyteros\n",
            "This is a story\n",
            "  Ελλάδα   ΕΟΦ: Η αντένδειξη για το εμβόλιο της AstraZeneca από τον ΕΜΑ \n",
            "https://www.lifo.gr/now/greece/eof-i-antendeixi-gia-embolio-tis-astrazeneca-apo-ton-ema-gia-syndromo-diafygis\n",
            "This is a story\n",
            "  Διεθνή   Θεόδωρος Βασιλακόπουλος: «Αν δεν χτίσουμε τείχος ανοσίας, είναι βέβαιο το 4ο κύμα πανδημίας» \n",
            "https://www.lifo.gr/now/world/theodoros-basilakopoylos-den-htisoyme-teihos-anosias-einai-bebaio-4o-kyma-pandimias\n",
            "This is a story\n",
            "  Διεθνή   Εμβόλιο AstraZeneca: Εντολή δικαστηρίου να παραδοθούν 50 εκατ. δόσεις στην ΕΕ έως τα τέλη Σεπτεμβρίου \n",
            "https://www.lifo.gr/now/world/embolio-astrazeneca-entoli-dikastirioy-na-paradothoyn-50-ekat-doseis-stin-ee-eos-ta-teli\n",
            "This is a story\n",
            "  Τι διαβάζουμε σήμερα   Tο AstraZeneca και η κακή επικοινωνιακή διαχείριση \n",
            "https://www.lifo.gr/stiles/ti-diavazoume-simera/astrazeneca-kai-i-kaki-epikoinoniaki-diaheirisi\n",
            "This is a story\n",
            "  Ελλάδα   Επίσημο: AstraZeneca μόνο σε άνω των 60 ετών - Ποιοι δεν πρέπει να κάνουν τη δεύτερη δόση του εμβολίου \n",
            "https://www.lifo.gr/now/greece/episimo-astrazeneca-mono-se-ano-ton-60-eton-poioi-den-prepei-na-kanoyn-ti-deyteri-dosi\n",
            "This is a story\n",
            "  Διεθνή   Αξιωματούχος ΕΜΑ: «Όχι» AstraZeneca στους 60+ τώρα που υπάρχουν περισσότερα εμβόλια mRNA \n",
            "https://www.lifo.gr/now/world/axiomatoyhos-ema-ohi-astrazeneca-stoys-60-tora-poy-yparhoyn-perissotera-embolia-mrna\n",
            "This is a story\n",
            "  Διεθνή   ΗΠΑ: Περίπου 60 εκατομμύρια δόσεις του εμβολίου της Johnson & Johnson θα πεταχτούν ως ακατάλληλες \n",
            "https://www.lifo.gr/now/world/ipa-peripoy-60-ekatommyria-doseis-toy-embolioy-tis-johnson-johnson-tha-petahtoyn-os\n",
            "This is a story\n",
            "  Ελλάδα   ΕΟΦ: Οι επιπλέον οδηγίες του ΕΜΑ για το εμβόλιο AstraZeneca και τις θρομβώσεις \n",
            "https://www.lifo.gr/now/greece/eof-oi-epipleon-odigies-toy-ema-gia-embolio-tis-astrazeneca-gia-tis-thromboseis\n",
            "This is a story\n",
            "  Ελλάδα   Κρήτη: Νεκρή η 44χρονη που νοσηλευόταν μετά τον εμβολιασμό της \n",
            "https://www.lifo.gr/now/greece/kriti-nekri-i-44hroni-poy-nosileyotan-meta-ton-emboliasmo-me-astrazeneca\n",
            "This is a story\n",
            "  Ελλάδα   Βασιλακόπουλος: Ελάχιστη η πιθανότητα για θρόμβωση ή κάποια επιπλοκή στην δεύτερη δόση του AstraZeneca \n",
            "https://www.lifo.gr/now/greece/basilakopoylos-elahisti-i-pithanotita-gia-thrombosi-i-kapoia-epiploki-stin-deyteri-dosi\n",
            "This is a story\n",
            "  Διεθνή   Η Κύπρος συστήνει εμβόλια mRNA για τους κάτω των 50 ετών - «Στροφή» από το AstraZeneca \n",
            "https://www.lifo.gr/now/world/i-kypros-systinei-embolia-mrna-gia-toys-kato-ton-50-eton-strofi-apo-astrazeneca\n",
            "This is a story\n",
            "  Διεθνή   Θρομβώσεις από εμβόλια AstraZeneca και J&J: Επιστήμονες πιστεύουν ότι έλυσαν τον γρίφο \n",
            "https://www.lifo.gr/now/world/thromboseis-apo-embolia-astrazeneca-kai-jj-epistimones-pisteyoyn-oti-elysan-ton-grifo\n",
            "This is a story\n",
            "  Διεθνή   Εμβόλιο AstraZeneca: Η ΕΕ προσπαθεί να εξασφαλίσει δικαστική εντολή για άμεση παράδοση δόσεων \n",
            "https://www.lifo.gr/now/world/embolio-astrazeneca-i-ee-prospathei-na-exasfalisei-dikastiki-entoli-gia-amesi-paradosi\n",
            "This is a story\n",
            "  Ελλάδα   Διακομιδή 36χρονης από τη Λέσβο με συμπτώματα θρόμβωσης \n",
            "https://www.lifo.gr/now/greece/diakomidi-36hronis-apo-ti-lesbo-me-symptomata-thrombosis\n",
            "This is a story\n",
            "  Ελλάδα   Ηράκλειο: Σταθερά κρίσιμη η κατάσταση της 44χρονης- Στη ΜΕΘ μετά τον εμβολιασμό της με AstraZeneca \n",
            "https://www.lifo.gr/now/greece/irakleio-stathera-krisimi-i-katastasi-tis-44hronis-sti-meth-meta-ton-emboliasmo-tis-me\n",
            "This is a story\n",
            "  Διεθνή   Μαλάουι: Στην «πυρά» χιλιάδες δόσεις εμβολίου κατά του κορωνοϊού \n",
            "https://www.lifo.gr/now/world/malaoyi-stin-pyra-hiliades-doseis-embolioy-kata-toy-koronoioy\n",
            "This is a story\n",
            "  Ελλάδα   Δεύτερη θρόμβωση για 35χρονο στην Κρήτη μετά από εμβολιασμό - Τι λέει ο διοικητής του ΠΑΓΝΗ \n",
            "https://www.lifo.gr/now/greece/deyteri-thrombosi-gia-35hrono-stin-kriti-meta-apo-emboliasmo-ti-leei-o-dioikitis-toy\n",
            "This is a story\n",
            "  Διεθνή   Financial Times: Αναφορές ότι το εμβόλιο της AstraZeneca προστατεύει από την ινδική μετάλλαξη \n",
            "https://www.lifo.gr/now/world/financial-times-anafores-oti-embolio-tis-astrazeneca-prostateyei-apo-tin-indiki-metallaxi\n",
            " Διεθνή EMA: Νέα προειδοποίηση για παρενέργειες μετά από εμβολιασμό με AstraZeneca και Johnson & Johnson\n",
            " Τech & Science Έρευνα: Η ανάμιξη εμβολίων παρέχει καλή προστασία από τον κορωνοϊό- Ο «καλύτερος» συνδυασμός\n",
            " Ελλάδα ΕΟΦ: Η αντένδειξη για το εμβόλιο της AstraZeneca από τον ΕΜΑ\n",
            "  Διεθνή   EMA: Νέα προειδοποίηση για παρενέργειες μετά από εμβολιασμό με AstraZeneca και Johnson & Johnson \n",
            "  Τech & Science   Έρευνα: Η ανάμιξη εμβολίων παρέχει καλή προστασία από τον κορωνοϊό- Ο «καλύτερος» συνδυασμός \n",
            "  Ελλάδα   ΕΟΦ: Η αντένδειξη για το εμβόλιο της AstraZeneca από τον ΕΜΑ \n",
            "  Διεθνή   Θεόδωρος Βασιλακόπουλος: «Αν δεν χτίσουμε τείχος ανοσίας, είναι βέβαιο το 4ο κύμα πανδημίας» \n",
            "  Διεθνή   Εμβόλιο AstraZeneca: Εντολή δικαστηρίου να παραδοθούν 50 εκατ. δόσεις στην ΕΕ έως τα τέλη Σεπτεμβρίου \n",
            "  Τι διαβάζουμε σήμερα   Tο AstraZeneca και η κακή επικοινωνιακή διαχείριση \n",
            "  Ελλάδα   Επίσημο: AstraZeneca μόνο σε άνω των 60 ετών - Ποιοι δεν πρέπει να κάνουν τη δεύτερη δόση του εμβολίου \n",
            "  Διεθνή   Αξιωματούχος ΕΜΑ: «Όχι» AstraZeneca στους 60+ τώρα που υπάρχουν περισσότερα εμβόλια mRNA \n",
            "  Διεθνή   ΗΠΑ: Περίπου 60 εκατομμύρια δόσεις του εμβολίου της Johnson & Johnson θα πεταχτούν ως ακατάλληλες \n",
            "  Ελλάδα   ΕΟΦ: Οι επιπλέον οδηγίες του ΕΜΑ για το εμβόλιο AstraZeneca και τις θρομβώσεις \n",
            "  Ελλάδα   Κρήτη: Νεκρή η 44χρονη που νοσηλευόταν μετά τον εμβολιασμό της \n",
            "  Ελλάδα   Βασιλακόπουλος: Ελάχιστη η πιθανότητα για θρόμβωση ή κάποια επιπλοκή στην δεύτερη δόση του AstraZeneca \n",
            "  Διεθνή   Η Κύπρος συστήνει εμβόλια mRNA για τους κάτω των 50 ετών - «Στροφή» από το AstraZeneca \n",
            "  Διεθνή   Θρομβώσεις από εμβόλια AstraZeneca και J&J: Επιστήμονες πιστεύουν ότι έλυσαν τον γρίφο \n",
            "  Διεθνή   Εμβόλιο AstraZeneca: Η ΕΕ προσπαθεί να εξασφαλίσει δικαστική εντολή για άμεση παράδοση δόσεων \n",
            "  Ελλάδα   Διακομιδή 36χρονης από τη Λέσβο με συμπτώματα θρόμβωσης \n",
            "  Ελλάδα   Ηράκλειο: Σταθερά κρίσιμη η κατάσταση της 44χρονης- Στη ΜΕΘ μετά τον εμβολιασμό της με AstraZeneca \n",
            "  Διεθνή   Μαλάουι: Στην «πυρά» χιλιάδες δόσεις εμβολίου κατά του κορωνοϊού \n",
            "  Ελλάδα   Δεύτερη θρόμβωση για 35χρονο στην Κρήτη μετά από εμβολιασμό - Τι λέει ο διοικητής του ΠΑΓΝΗ \n",
            "  Διεθνή   Financial Times: Αναφορές ότι το εμβόλιο της AstraZeneca προστατεύει από την ινδική μετάλλαξη \n",
            " Τα τελευταία υφασματάδικα στο κέντρο της Αθήνας\n",
            " Στον Ζήση στην Καστέλλα για παϊδάκια και κοκορέτσι\n",
            " Κοπάζει ποτέ η κίνηση στους δρόμους της Αθήνας;\n",
            " Δέκα αστυνομικά μυθιστορήματα για τις καλοκαιρινές διακοπές\n",
            " Η απίθανη, διεθνής καριέρα των Evangelos & Liza\n",
            " Η πολυσυζητημένη εμφάνιση της Μπέλα Χαντίντ στις Κάννες\n",
            " Η Ελλάδα του Ελύτη εν περιλήψει\n",
            " Χρήστος Αρμάντο Γκέζος: «Με απασχολεί πώς το παρελθόν στοιχειώνει τον άνθρωπο»\n",
            " Μύκονος: «Έσκασε» η αποχέτευση και χύθηκαν λύματα - Κόκκινη σημαία στην παραλία Πλατύς Γιαλός\n",
            " Κρήτη: Ναυαγοσώστης έσωσε την ίδια κολυμβήτρια μετά από ένα χρόνο - «Πάλι εσύ… ξανά»\n",
            " Στον εισαγγελέα ο αστυνομικός και ο πατέρας 19χρονης που κατηγορούνται ότι την εξέδιδαν και τη βίαζαν\n",
            " Η Ντέμι Μουρ έγινε νονά στην Κρήτη [ΕΙΚΟΝΕΣ]\n",
            " Διάγγελμα Μητσοτάκη: Υποχρεωτικός ο εμβολιασμός υγειονομικών - Οι κλειστοί χώροι σε μπαρ, σινεμά, θέατρα μόνο για εμβολιασμένους\n",
            " Φιλόδοξο εγχείρημα: Δίνουν έως 28.000 ευρώ σε νέους που θέλουν να μετακομίσουν στα χωριά της Καλαβρίας\n",
            " Euro 2020: Viral οι αντιδράσεις του πρίγκιπα Τζορτζ στον τελικό- Από τον ενθουσιασμό στη θλίψη\n",
            " Euro 2020: Στόχος ρατσιστικών επιθέσεων στα social media οι 3 Άγγλοι που έχασαν πέναλτι στον τελικό\n",
            " 4 cocktails με βάση το παγωμένο τσάι για να απολαύσετε στο μπαλκόνι σας φέτος το καλοκαίρι\n",
            " Έτοιμη για τη μεγάλη «γιορτή» του αθλητισμού η My Ομάδα των My market\n",
            " Η πολυσυζητημένη εμφάνιση της Μπέλα Χαντίντ στις Κάννες\n",
            " Enjoy a little Mexico: Βρεθήκαμε στον πρώτο σταθμό του Coronita Van και πήραμε μια γεύση από Μεξικό στην καρδιά της πόλης\n",
            " Cordella.gr: Happily ever after, με όλα τα δώρα που επιθυμείς, από την πρώτη online λίστα γάμου στην Ελλάδα\n",
            " «Είσαι ΤΡΟΥ Λόκαλ; Απόδειξέ το!»: Μοιραστείτε αυτό που θα ομορφύνει τη γειτονιά σας και κερδίστε μοναδικά δώρα από τη FIX Hellas\n",
            " Taste Garden: Μια ολοκληρωμένη γευστική εμπειρία στον πολύχρωμο και καλοκαιρινό κήπο του Golden Hall\n",
            " Heat by Perrier®, σε σκηνοθεσία Cary Joji Fukunaga: Η νέα διαφημιστική καμπάνια που γυρίστηκε στην Αθήνα και συμβολίζει ολόκληρο τον κόσμο\n"
          ],
          "name": "stdout"
        }
      ]
    },
    {
      "cell_type": "code",
      "metadata": {
        "colab": {
          "base_uri": "https://localhost:8080/",
          "height": 248
        },
        "id": "Im3NjeUoD1zT",
        "outputId": "df6c75dd-02d8-4ae1-88d4-5cac1f4d3779"
      },
      "source": [
        "# Τρίτον, χρησιμοποιούμε την είδηση για να πάρουμε το summary\n",
        "\n",
        "lifo_stories_astrazeneca = doc.find_all('div', {'class': 'news-relevants-content'})\n",
        "for story in lifo_stories_astrazeneca:\n",
        "  print(\"This is a story\")\n",
        "  headline = story.find('h3')\n",
        "  print(headline.text)\n",
        "  link = story.find('a')\n",
        "  print(link['href'])\n",
        "  summary = story.find('div', {'class': 'v2_lead'})\n",
        "  print(summary.text)"
      ],
      "execution_count": 174,
      "outputs": [
        {
          "output_type": "stream",
          "text": [
            "This is a story\n",
            "  Διεθνή   EMA: Νέα προειδοποίηση για παρενέργειες μετά από εμβολιασμό με AstraZeneca και Johnson & Johnson \n",
            "https://www.lifo.gr/now/world/emboliasmos-nees-proeidopoiiseis-ema-gia-tis-parenergeies-se-astrazeneca-johnson-johnson\n"
          ],
          "name": "stdout"
        },
        {
          "output_type": "error",
          "ename": "AttributeError",
          "evalue": "ignored",
          "traceback": [
            "\u001b[0;31m---------------------------------------------------------------------------\u001b[0m",
            "\u001b[0;31mAttributeError\u001b[0m                            Traceback (most recent call last)",
            "\u001b[0;32m<ipython-input-174-56b8138df137>\u001b[0m in \u001b[0;36m<module>\u001b[0;34m()\u001b[0m\n\u001b[1;32m      9\u001b[0m   \u001b[0mprint\u001b[0m\u001b[0;34m(\u001b[0m\u001b[0mlink\u001b[0m\u001b[0;34m[\u001b[0m\u001b[0;34m'href'\u001b[0m\u001b[0;34m]\u001b[0m\u001b[0;34m)\u001b[0m\u001b[0;34m\u001b[0m\u001b[0;34m\u001b[0m\u001b[0m\n\u001b[1;32m     10\u001b[0m   \u001b[0msummary\u001b[0m \u001b[0;34m=\u001b[0m \u001b[0mstory\u001b[0m\u001b[0;34m.\u001b[0m\u001b[0mfind\u001b[0m\u001b[0;34m(\u001b[0m\u001b[0;34m'div'\u001b[0m\u001b[0;34m,\u001b[0m \u001b[0;34m{\u001b[0m\u001b[0;34m'class'\u001b[0m\u001b[0;34m:\u001b[0m \u001b[0;34m'v2_lead'\u001b[0m\u001b[0;34m}\u001b[0m\u001b[0;34m)\u001b[0m\u001b[0;34m\u001b[0m\u001b[0;34m\u001b[0m\u001b[0m\n\u001b[0;32m---> 11\u001b[0;31m   \u001b[0mprint\u001b[0m\u001b[0;34m(\u001b[0m\u001b[0msummary\u001b[0m\u001b[0;34m.\u001b[0m\u001b[0mtext\u001b[0m\u001b[0;34m)\u001b[0m\u001b[0;34m\u001b[0m\u001b[0;34m\u001b[0m\u001b[0m\n\u001b[0m",
            "\u001b[0;31mAttributeError\u001b[0m: 'NoneType' object has no attribute 'text'"
          ]
        }
      ]
    },
    {
      "cell_type": "markdown",
      "metadata": {
        "id": "_HEAGXeAgOg_"
      },
      "source": [
        "Εμφανίζει error επειδή ενδέχεται να μην έχουν όλα τα θέματα summary, οπότε το διορθώνουμε."
      ]
    },
    {
      "cell_type": "code",
      "metadata": {
        "colab": {
          "base_uri": "https://localhost:8080/"
        },
        "id": "lqRW5AG8D2Z4",
        "outputId": "70daa746-af00-44a0-cca3-4c25db14b7d8"
      },
      "source": [
        "lifo_stories_astrazeneca = doc.find_all('div', {'class': 'news-relevants-content'})\n",
        "for story in lifo_stories_astrazeneca:\n",
        "  print(\"This is a story\")\n",
        "  headline = story.find('h3')\n",
        "  print(headline.text)\n",
        "  link = story.find('a')\n",
        "  print(link['href'])\n",
        "  summary = story.find('div', {'class': 'v2_lead'})\n",
        "  if summary: \n",
        "    print(summary.text)"
      ],
      "execution_count": 175,
      "outputs": [
        {
          "output_type": "stream",
          "text": [
            "This is a story\n",
            "  Διεθνή   EMA: Νέα προειδοποίηση για παρενέργειες μετά από εμβολιασμό με AstraZeneca και Johnson & Johnson \n",
            "https://www.lifo.gr/now/world/emboliasmos-nees-proeidopoiiseis-ema-gia-tis-parenergeies-se-astrazeneca-johnson-johnson\n",
            "This is a story\n",
            "  Τech & Science   Έρευνα: Η ανάμιξη εμβολίων παρέχει καλή προστασία από τον κορωνοϊό- Ο «καλύτερος» συνδυασμός \n",
            "https://www.lifo.gr/now/tech-science/ereyna-i-anamixi-embolion-parehei-kali-prostasia-apo-ton-koronoio-o-kalyteros\n",
            "This is a story\n",
            "  Ελλάδα   ΕΟΦ: Η αντένδειξη για το εμβόλιο της AstraZeneca από τον ΕΜΑ \n",
            "https://www.lifo.gr/now/greece/eof-i-antendeixi-gia-embolio-tis-astrazeneca-apo-ton-ema-gia-syndromo-diafygis\n",
            "This is a story\n",
            "  Διεθνή   Θεόδωρος Βασιλακόπουλος: «Αν δεν χτίσουμε τείχος ανοσίας, είναι βέβαιο το 4ο κύμα πανδημίας» \n",
            "https://www.lifo.gr/now/world/theodoros-basilakopoylos-den-htisoyme-teihos-anosias-einai-bebaio-4o-kyma-pandimias\n",
            "This is a story\n",
            "  Διεθνή   Εμβόλιο AstraZeneca: Εντολή δικαστηρίου να παραδοθούν 50 εκατ. δόσεις στην ΕΕ έως τα τέλη Σεπτεμβρίου \n",
            "https://www.lifo.gr/now/world/embolio-astrazeneca-entoli-dikastirioy-na-paradothoyn-50-ekat-doseis-stin-ee-eos-ta-teli\n",
            "This is a story\n",
            "  Τι διαβάζουμε σήμερα   Tο AstraZeneca και η κακή επικοινωνιακή διαχείριση \n",
            "https://www.lifo.gr/stiles/ti-diavazoume-simera/astrazeneca-kai-i-kaki-epikoinoniaki-diaheirisi\n",
            "This is a story\n",
            "  Ελλάδα   Επίσημο: AstraZeneca μόνο σε άνω των 60 ετών - Ποιοι δεν πρέπει να κάνουν τη δεύτερη δόση του εμβολίου \n",
            "https://www.lifo.gr/now/greece/episimo-astrazeneca-mono-se-ano-ton-60-eton-poioi-den-prepei-na-kanoyn-ti-deyteri-dosi\n",
            "This is a story\n",
            "  Διεθνή   Αξιωματούχος ΕΜΑ: «Όχι» AstraZeneca στους 60+ τώρα που υπάρχουν περισσότερα εμβόλια mRNA \n",
            "https://www.lifo.gr/now/world/axiomatoyhos-ema-ohi-astrazeneca-stoys-60-tora-poy-yparhoyn-perissotera-embolia-mrna\n",
            "This is a story\n",
            "  Διεθνή   ΗΠΑ: Περίπου 60 εκατομμύρια δόσεις του εμβολίου της Johnson & Johnson θα πεταχτούν ως ακατάλληλες \n",
            "https://www.lifo.gr/now/world/ipa-peripoy-60-ekatommyria-doseis-toy-embolioy-tis-johnson-johnson-tha-petahtoyn-os\n",
            "This is a story\n",
            "  Ελλάδα   ΕΟΦ: Οι επιπλέον οδηγίες του ΕΜΑ για το εμβόλιο AstraZeneca και τις θρομβώσεις \n",
            "https://www.lifo.gr/now/greece/eof-oi-epipleon-odigies-toy-ema-gia-embolio-tis-astrazeneca-gia-tis-thromboseis\n",
            "This is a story\n",
            "  Ελλάδα   Κρήτη: Νεκρή η 44χρονη που νοσηλευόταν μετά τον εμβολιασμό της \n",
            "https://www.lifo.gr/now/greece/kriti-nekri-i-44hroni-poy-nosileyotan-meta-ton-emboliasmo-me-astrazeneca\n",
            "This is a story\n",
            "  Ελλάδα   Βασιλακόπουλος: Ελάχιστη η πιθανότητα για θρόμβωση ή κάποια επιπλοκή στην δεύτερη δόση του AstraZeneca \n",
            "https://www.lifo.gr/now/greece/basilakopoylos-elahisti-i-pithanotita-gia-thrombosi-i-kapoia-epiploki-stin-deyteri-dosi\n",
            "This is a story\n",
            "  Διεθνή   Η Κύπρος συστήνει εμβόλια mRNA για τους κάτω των 50 ετών - «Στροφή» από το AstraZeneca \n",
            "https://www.lifo.gr/now/world/i-kypros-systinei-embolia-mrna-gia-toys-kato-ton-50-eton-strofi-apo-astrazeneca\n",
            "This is a story\n",
            "  Διεθνή   Θρομβώσεις από εμβόλια AstraZeneca και J&J: Επιστήμονες πιστεύουν ότι έλυσαν τον γρίφο \n",
            "https://www.lifo.gr/now/world/thromboseis-apo-embolia-astrazeneca-kai-jj-epistimones-pisteyoyn-oti-elysan-ton-grifo\n",
            "This is a story\n",
            "  Διεθνή   Εμβόλιο AstraZeneca: Η ΕΕ προσπαθεί να εξασφαλίσει δικαστική εντολή για άμεση παράδοση δόσεων \n",
            "https://www.lifo.gr/now/world/embolio-astrazeneca-i-ee-prospathei-na-exasfalisei-dikastiki-entoli-gia-amesi-paradosi\n",
            "This is a story\n",
            "  Ελλάδα   Διακομιδή 36χρονης από τη Λέσβο με συμπτώματα θρόμβωσης \n",
            "https://www.lifo.gr/now/greece/diakomidi-36hronis-apo-ti-lesbo-me-symptomata-thrombosis\n",
            "This is a story\n",
            "  Ελλάδα   Ηράκλειο: Σταθερά κρίσιμη η κατάσταση της 44χρονης- Στη ΜΕΘ μετά τον εμβολιασμό της με AstraZeneca \n",
            "https://www.lifo.gr/now/greece/irakleio-stathera-krisimi-i-katastasi-tis-44hronis-sti-meth-meta-ton-emboliasmo-tis-me\n",
            "This is a story\n",
            "  Διεθνή   Μαλάουι: Στην «πυρά» χιλιάδες δόσεις εμβολίου κατά του κορωνοϊού \n",
            "https://www.lifo.gr/now/world/malaoyi-stin-pyra-hiliades-doseis-embolioy-kata-toy-koronoioy\n",
            "This is a story\n",
            "  Ελλάδα   Δεύτερη θρόμβωση για 35χρονο στην Κρήτη μετά από εμβολιασμό - Τι λέει ο διοικητής του ΠΑΓΝΗ \n",
            "https://www.lifo.gr/now/greece/deyteri-thrombosi-gia-35hrono-stin-kriti-meta-apo-emboliasmo-ti-leei-o-dioikitis-toy\n",
            "This is a story\n",
            "  Διεθνή   Financial Times: Αναφορές ότι το εμβόλιο της AstraZeneca προστατεύει από την ινδική μετάλλαξη \n",
            "https://www.lifo.gr/now/world/financial-times-anafores-oti-embolio-tis-astrazeneca-prostateyei-apo-tin-indiki-metallaxi\n"
          ],
          "name": "stdout"
        }
      ]
    },
    {
      "cell_type": "markdown",
      "metadata": {
        "id": "gK5-QDlhgzWj"
      },
      "source": [
        "Τώρα ο κώδικας τρέχει, άρα το πρόβλημα ήταν όντως με το summary."
      ]
    },
    {
      "cell_type": "markdown",
      "metadata": {
        "id": "qM94IVL3MBbJ"
      },
      "source": [
        "## Άρθρα για το εμβόλιο Pfizer"
      ]
    },
    {
      "cell_type": "code",
      "metadata": {
        "id": "SC6oqNmyAxGW"
      },
      "source": [
        "# Κατεβάζουμε την ιστοσελίδα (τα άρθρα με το tag Εμβόλιο Pfizer) και την εισάγουμε στη Beautiful Soup\n",
        "\n",
        "response2 = requests.get('https://www.lifo.gr/tags/embolio-pfizer')\n",
        "doc2 = BeautifulSoup(response2.text, 'html.parser')"
      ],
      "execution_count": 177,
      "outputs": []
    },
    {
      "cell_type": "code",
      "metadata": {
        "colab": {
          "base_uri": "https://localhost:8080/"
        },
        "id": "j468y4QeAxUX",
        "outputId": "e1869c50-bb58-4860-e63a-e1a3463db411"
      },
      "source": [
        "# Δημιουργούμε μια λίστα με όλα τα άρθρα που έχουν το συγκεκριμένο tag\n",
        "\n",
        "lifo_stories_pfizer = doc2.find_all('div', {'class': 'news-relevants-content'})\n",
        "for story in lifo_stories_pfizer: \n",
        "  print(story.text)"
      ],
      "execution_count": 178,
      "outputs": [
        {
          "output_type": "stream",
          "text": [
            "   Διεθνή   Κορωνοϊός: Το Ισραήλ ξεκινά τη χορήγηση 3ης δόσης του εμβολίου - Ποιους αφορά    The LiFO team  11.7.2021   «Συναγερμός» για τη μετάλλαξη Δέλτα  THE LIFO TEAM            \n",
            "   Διεθνή   ΕΜΑ: Πιθανή σύνδεση σπάνιας καρδιακής φλεγμονής με εμβόλια mRNA    The LiFO team  9.7.2021   Επισημαίνει ωστόσο ότι ο εμβολιασμός υπερτερεί του όποιου κινδύνου  THE LIFO TEAM            \n",
            "   Διεθνή   Εμβόλιο Pfizer: Το Ισραήλ ανέφερε πτώση της προστασίας από μόλυνση και συμπτωματική νόσηση    The LiFO team  6.7.2021   Παραμένει ωστόσο ισχυρή η αποτελεσματικότητα απέναντι στη σοβαρή νόσηση  THE LIFO TEAM            \n",
            "   Τech & Science   Μελέτη ΕΚΠΑ: Ποιοι πρέπει να λάβουν και τρίτη δόση εμβολίου της Pfizer    The LiFO team  4.7.2021   Σε ποιους ασθενείς παρατηρήθηκε μειωμένη ανοσολογική απόκριση μετά τη χορήγηση δύο δόσεων mRNA εμβολίου  THE LIFO TEAM            \n",
            "   Ελλάδα   Εύοσμος: 81χρονη πήρε φιαλίδιο της Pfizer από εμβολιαστικό κέντρο, «ως ενθύμιο»    The LiFO team  30.6.2021   Η ηλικιωμένη συνελήφθη με την αυτόφωρη διαδικασία  THE LIFO TEAM            \n",
            "   Διεθνή   Τα εμβόλια της AstraZeneca και της Pfizer είναι αποτελεσματικά απέναντι στην παραλλαγή Δέλτα, σύμφωνα με μελέτη    The LiFO team  23.6.2021   Τι αναφέρει η μελέτη των ερευνητών του Πανεπιστημίου τη Οξφόρδης  THE LIFO TEAM            \n",
            "   Ελλάδα   Καλάβρυτα: Δεν φαίνεται να σχετίζεται ο θάνατος της 56χρονης με τον εμβολιασμό    The LiFO team  20.6.2021   Aναμένονται και οι τοξικολογικές εξετάσεις της άτυχης γυναίκας  THE LIFO TEAM            \n",
            "   Διεθνή   Το Ισραήλ στέλνει στους Παλαιστίνιους ένα εκατ. δόσεις Pfizer που λήγουν σύντομα    The LiFO team  18.6.2021   Συμφωνία του Ισραήλ με την Παλαιστινιακή Αρχή για περίπου 1 εκατομμύριο δόσεις  THE LIFO TEAM            \n",
            "   Ελλάδα   Παπαευαγγέλου: 25-27 αναφορές για μυοκαρδίτιδα μετά το Pfizer- Δεν έχουν συσχετιστεί σαφώς με το εμβόλιο    The LiFO team  16.6.2021   «Περιστατικά που φαίνεται να έχουν καλή έκβαση, είναι παροδικά και ήπια»  THE LIFO TEAM            \n",
            "   Ελλάδα   Eμβόλια Pfizer και Moderna -ΕΚΠΑ: Αυτές είναι οι παρενέργειες που έχουν αναφερθεί    The LiFO team  15.6.2021   Τα διαθέσιμα δεδομένα από την βάση καταγραφής ανεπιθύμητων ενεργειών εμβολίων  THE LIFO TEAM            \n",
            "   Ελλάδα   Εμβολιασμός: Τέλος το AstraZeneca για κάτω των 60- Ανοίγει η πλατφόρμα για τους 18-24    The LiFO team  15.6.2021   Διαθέσιμα από Τετάρτη όλα τα εμβόλια για όλους τους ενήλικους πολίτες της χώρας  THE LIFO TEAM            \n",
            "   Διεθνή   CDC: «Περισσότερες από το αναμενόμενο» οι καρδιακές φλεγμονές σε νέους άνδρες μετά τα εμβόλια Pfizer & Moderna    The LiFO team  11.6.2021   Τι δείχνουν τα στοιχεία που έχουν στα χέρια τους τα CDC  THE LIFO TEAM            \n",
            "   Διεθνή   Μπάιντεν: Οι ΗΠΑ θα αγοράσουν 500 εκατ. δόσεις εμβολίου για χώρες χαμηλού εισοδήματος    The LiFO team  10.6.2021   Οι ΗΠΑ παρέχουν αυτές τις δόσεις «χωρίς δεσμεύσεις» τόνισε ο Μπάιντεν  THE LIFO TEAM            \n",
            "   Ελλάδα   Κικίλιας: «Ανοίγουν» 420.000 ραντεβού με Moderna, Pfizer και Johnson & Johnson    The LiFO team  9.6.2021   Από 10 Ιουνίου ανοίγει η πλατφόρμα ραντεβού για την ηλικιακή ομάδα 25 έως 29 ετών  THE LIFO TEAM            \n",
            "   Ελλάδα   Γεωργαντάς: Από την επόμενη εβδομάδα οι εμβολιασμοί των 25-29 με Pfizer και Moderna    The LiFO team  4.6.2021   Πώς θα λειτουργεί το ευρωπαϊκό Ψηφιακό Πιστοποιητικό Covid – Τι έγγραφα χρειάζονται για μετακίνηση στα νησιά  THE LIFO TEAM            \n",
            "   Διεθνή   Κορωνοϊός: Ποιες χώρες έδωσαν το «πράσινο φως» για τον εμβολιασμό των παιδιών άνω των 12 ετών    The LiFO team  3.6.2021   Αναλυτικά σε Ευρώπη, Ασία, Μέση Ανατολή και Αμερική  THE LIFO TEAM            \n",
            "   Ελλάδα   Κικίλιας: «Σπάει» η ηλικιακή ομάδα των 18-29 για τον εμβολιασμό με Pfizer και Moderna    The LiFO team  2.6.2021   Στα 36 έτη υποχώρησε η διάμεση ηλικία των κρουσμάτων  THE LIFO TEAM            \n",
            "   Διεθνή   Ισραήλ: «Πιθανή σύνδεση» του εμβολίου της Pfizer με περιστατικά μυοκαρδίτιδας    The LiFO team  2.6.2021   Το υπουργείο Υγείας του Ισραήλ ανακοίνωσε τα αποτελέσματα έρευνας  THE LIFO TEAM            \n",
            "   Ελλάδα   Συνελήφθη 42χρονος στο Περιστέρι: Κατηγορείται ότι έκλεψε εμβόλια της Pfizer από εμβολιαστικό κέντρο    The LiFO team  2.6.2021   Άγνωστες οι συνθήκες κάτω από τις οποίες σημειώθηκε το περισταστικό  THE LIFO TEAM            \n",
            "   Ελλάδα   Γεωργαντάς: Ανοίγουν οι εμβολιασμοί και με Pfizer & Moderna για τους 18-29 ετών    The LiFO team  2.6.2021   Τις επόμενες ημέρες θα ανακοινωθεί το άνοιγμα των ραντεβού και για τα άλλα δύο εμβόλια  THE LIFO TEAM            \n"
          ],
          "name": "stdout"
        }
      ]
    },
    {
      "cell_type": "code",
      "metadata": {
        "colab": {
          "base_uri": "https://localhost:8080/"
        },
        "id": "eOzclFAOAxZk",
        "outputId": "c7ea15e6-9b4e-4802-cc9c-9189d10d488c"
      },
      "source": [
        "# Πρώτον, χρησιμοποιούμε το doc2 για να πάρουμε την είδηση \n",
        "\n",
        "lifo_stories_pfizer = doc2.find_all('div', {'class': 'news-relevants-content'})\n",
        "for story in lifo_stories_pfizer:\n",
        "  print(\"This is a story\")"
      ],
      "execution_count": 179,
      "outputs": [
        {
          "output_type": "stream",
          "text": [
            "This is a story\n",
            "This is a story\n",
            "This is a story\n",
            "This is a story\n",
            "This is a story\n",
            "This is a story\n",
            "This is a story\n",
            "This is a story\n",
            "This is a story\n",
            "This is a story\n",
            "This is a story\n",
            "This is a story\n",
            "This is a story\n",
            "This is a story\n",
            "This is a story\n",
            "This is a story\n",
            "This is a story\n",
            "This is a story\n",
            "This is a story\n",
            "This is a story\n"
          ],
          "name": "stdout"
        }
      ]
    },
    {
      "cell_type": "code",
      "metadata": {
        "colab": {
          "base_uri": "https://localhost:8080/"
        },
        "id": "qoagip0rNBk1",
        "outputId": "7b34b298-249d-428b-ce51-9ffc6c8104c1"
      },
      "source": [
        "# Δεύτερον, χρησιμοποιούμε την είδηση για να πάρουμε τον τίτλο και το link του άρθρου\n",
        "\n",
        "lifo_stories_pfizer = doc2.find_all('div', {'class': 'news-relevants-content'})\n",
        "for story in lifo_stories_pfizer:\n",
        "  print(\"This is a story\")\n",
        "  headline = story.find('h3')\n",
        "  print(headline.text)\n",
        "  link = story.find('a')\n",
        "  print(link['href'])\n",
        "  \n",
        "  headlines = doc2.find_all('h3')\n",
        "\n",
        "for headline in headlines: \n",
        "  print(headline.text)"
      ],
      "execution_count": 180,
      "outputs": [
        {
          "output_type": "stream",
          "text": [
            "This is a story\n",
            "  Διεθνή   Κορωνοϊός: Το Ισραήλ ξεκινά τη χορήγηση 3ης δόσης του εμβολίου - Ποιους αφορά \n",
            "https://www.lifo.gr/now/world/koronoios-israil-xekina-ti-horigisi-3is-dosis-toy-embolioy-poioys-afora\n",
            "This is a story\n",
            "  Διεθνή   ΕΜΑ: Πιθανή σύνδεση σπάνιας καρδιακής φλεγμονής με εμβόλια mRNA \n",
            "https://www.lifo.gr/now/world/o-ema-entopizei-pithani-syndesi-metaxy-kardiakis-flegmonis-kai-embolion-mrna\n",
            "This is a story\n",
            "  Διεθνή   Εμβόλιο Pfizer: Το Ισραήλ ανέφερε πτώση της προστασίας από μόλυνση και συμπτωματική νόσηση \n",
            "https://www.lifo.gr/now/world/israil-blepei-ptosi-tis-prostasias-poy-parehei-embolio-tis-pfizer-apo-ti-molynsi\n",
            "This is a story\n",
            "  Τech & Science   Μελέτη ΕΚΠΑ: Ποιοι πρέπει να λάβουν και τρίτη δόση εμβολίου της Pfizer \n",
            "https://www.lifo.gr/now/tech-science/meleti-ekpa-poioi-prepei-na-laboyn-kai-triti-dosi-embolioy-tis-pfizer\n",
            "This is a story\n",
            "  Ελλάδα   Εύοσμος: 81χρονη πήρε φιαλίδιο της Pfizer από εμβολιαστικό κέντρο, «ως ενθύμιο» \n",
            "https://www.lifo.gr/now/greece/eyosmos-81hroni-pire-fialidio-tis-pfizer-apo-emboliastiko-kentro-os-enthymio\n",
            "This is a story\n",
            "  Διεθνή   Τα εμβόλια της AstraZeneca και της Pfizer είναι αποτελεσματικά απέναντι στην παραλλαγή Δέλτα, σύμφωνα με μελέτη \n",
            "https://www.lifo.gr/now/world/ta-embolia-tis-astrazeneca-kai-tis-pfizer-einai-apotelesmatika-apenanti-stin-parallagi\n",
            "This is a story\n",
            "  Ελλάδα   Καλάβρυτα: Δεν φαίνεται να σχετίζεται ο θάνατος της 56χρονης με τον εμβολιασμό \n",
            "https://www.lifo.gr/now/greece/kalabryta-den-fainetai-na-shetizetai-o-thanatos-tis-56hronis-me-ton-emboliasmo\n",
            "This is a story\n",
            "  Διεθνή   Το Ισραήλ στέλνει στους Παλαιστίνιους ένα εκατ. δόσεις Pfizer που λήγουν σύντομα \n",
            "https://www.lifo.gr/now/world/israil-stelnei-stoys-palaistinioys-ena-ekat-doseis-pfizer-poy-ligoyn-syntoma\n",
            "This is a story\n",
            "  Ελλάδα   Παπαευαγγέλου: 25-27 αναφορές για μυοκαρδίτιδα μετά το Pfizer- Δεν έχουν συσχετιστεί σαφώς με το εμβόλιο \n",
            "https://www.lifo.gr/now/greece/papaeyaggeloy-25-27-anafores-gia-myokarditida-meta-pfizer-den-ehoyn-syshetistei-safos-me\n",
            "This is a story\n",
            "  Ελλάδα   Eμβόλια Pfizer και Moderna -ΕΚΠΑ: Αυτές είναι οι παρενέργειες που έχουν αναφερθεί \n",
            "https://www.lifo.gr/now/greece/embolia-pfizer-kai-moderna-ekpa-aytes-einai-oi-parenergeies-poy-ehoyn-anaferthei\n",
            "This is a story\n",
            "  Ελλάδα   Εμβολιασμός: Τέλος το AstraZeneca για κάτω των 60- Ανοίγει η πλατφόρμα για τους 18-24 \n",
            "https://www.lifo.gr/now/greece/emboliasmos-telos-astrazeneca-gia-kato-ton-60-anoigei-i-platforma-gia-toys-18-24\n",
            "This is a story\n",
            "  Διεθνή   CDC: «Περισσότερες από το αναμενόμενο» οι καρδιακές φλεγμονές σε νέους άνδρες μετά τα εμβόλια Pfizer & Moderna \n",
            "https://www.lifo.gr/now/world/cdc-perissoteres-apo-anamenomeno-oi-periptoseis-kardiakis-flegmonis-se-nearoys-andres\n",
            "This is a story\n",
            "  Διεθνή   Μπάιντεν: Οι ΗΠΑ θα αγοράσουν 500 εκατ. δόσεις εμβολίου για χώρες χαμηλού εισοδήματος \n",
            "https://www.lifo.gr/now/world/mpainten-oi-ipa-tha-agorasoyn-500-ekat-doseis-embolioy-gia-hores-hamiloy-eisodimatos\n",
            "This is a story\n",
            "  Ελλάδα   Κικίλιας: «Ανοίγουν» 420.000 ραντεβού με Moderna, Pfizer και Johnson & Johnson \n",
            "https://www.lifo.gr/now/greece/kikilias-anoigoyn-420000-ranteboy-me-moderna-pfizer-kai-johnson-johnson\n",
            "This is a story\n",
            "  Ελλάδα   Γεωργαντάς: Από την επόμενη εβδομάδα οι εμβολιασμοί των 25-29 με Pfizer και Moderna \n",
            "https://www.lifo.gr/now/greece/georgantas-apo-tin-epomeni-ebdomada-oi-emboliasmoi-ton-25-29-me-pfizer-kai-moderna\n",
            "This is a story\n",
            "  Διεθνή   Κορωνοϊός: Ποιες χώρες έδωσαν το «πράσινο φως» για τον εμβολιασμό των παιδιών άνω των 12 ετών \n",
            "https://www.lifo.gr/now/world/koronoios-poies-hores-edosan-prasino-fos-gia-ton-emboliasmo-ton-paidion-ano-ton-12-eton\n",
            "This is a story\n",
            "  Ελλάδα   Κικίλιας: «Σπάει» η ηλικιακή ομάδα των 18-29 για τον εμβολιασμό με Pfizer και Moderna \n",
            "https://www.lifo.gr/now/greece/kikilias-spaei-i-ilikiaki-omada-ton-18-29-gia-ton-emboliasmo-me-pfizer-kai-moderna\n",
            "This is a story\n",
            "  Διεθνή   Ισραήλ: «Πιθανή σύνδεση» του εμβολίου της Pfizer με περιστατικά μυοκαρδίτιδας \n",
            "https://www.lifo.gr/now/world/israil-pithani-syndesi-toy-embolioy-tis-pfizer-me-peristatika-myokarditidas\n",
            "This is a story\n",
            "  Ελλάδα   Συνελήφθη 42χρονος στο Περιστέρι: Κατηγορείται ότι έκλεψε εμβόλια της Pfizer από εμβολιαστικό κέντρο \n",
            "https://www.lifo.gr/now/greece/synelifthi-42hronos-sto-peristeri-katigoreitai-oti-eklepse-embolia-tis-pfizer-apo\n",
            "This is a story\n",
            "  Ελλάδα   Γεωργαντάς: Ανοίγουν οι εμβολιασμοί και με Pfizer & Moderna για τους 18-29 ετών \n",
            "https://www.lifo.gr/now/greece/georgantas-anoigoyn-oi-emboliasmoi-kai-me-pfizer-moderna-gia-toys-18-29-eton\n",
            " Διεθνή Κορωνοϊός: Το Ισραήλ ξεκινά τη χορήγηση 3ης δόσης του εμβολίου - Ποιους αφορά\n",
            " Διεθνή ΕΜΑ: Πιθανή σύνδεση σπάνιας καρδιακής φλεγμονής με εμβόλια mRNA\n",
            " Διεθνή Εμβόλιο Pfizer: Το Ισραήλ ανέφερε πτώση της προστασίας από μόλυνση και συμπτωματική νόσηση\n",
            "  Διεθνή   Κορωνοϊός: Το Ισραήλ ξεκινά τη χορήγηση 3ης δόσης του εμβολίου - Ποιους αφορά \n",
            "  Διεθνή   ΕΜΑ: Πιθανή σύνδεση σπάνιας καρδιακής φλεγμονής με εμβόλια mRNA \n",
            "  Διεθνή   Εμβόλιο Pfizer: Το Ισραήλ ανέφερε πτώση της προστασίας από μόλυνση και συμπτωματική νόσηση \n",
            "  Τech & Science   Μελέτη ΕΚΠΑ: Ποιοι πρέπει να λάβουν και τρίτη δόση εμβολίου της Pfizer \n",
            "  Ελλάδα   Εύοσμος: 81χρονη πήρε φιαλίδιο της Pfizer από εμβολιαστικό κέντρο, «ως ενθύμιο» \n",
            "  Διεθνή   Τα εμβόλια της AstraZeneca και της Pfizer είναι αποτελεσματικά απέναντι στην παραλλαγή Δέλτα, σύμφωνα με μελέτη \n",
            "  Ελλάδα   Καλάβρυτα: Δεν φαίνεται να σχετίζεται ο θάνατος της 56χρονης με τον εμβολιασμό \n",
            "  Διεθνή   Το Ισραήλ στέλνει στους Παλαιστίνιους ένα εκατ. δόσεις Pfizer που λήγουν σύντομα \n",
            "  Ελλάδα   Παπαευαγγέλου: 25-27 αναφορές για μυοκαρδίτιδα μετά το Pfizer- Δεν έχουν συσχετιστεί σαφώς με το εμβόλιο \n",
            "  Ελλάδα   Eμβόλια Pfizer και Moderna -ΕΚΠΑ: Αυτές είναι οι παρενέργειες που έχουν αναφερθεί \n",
            "  Ελλάδα   Εμβολιασμός: Τέλος το AstraZeneca για κάτω των 60- Ανοίγει η πλατφόρμα για τους 18-24 \n",
            "  Διεθνή   CDC: «Περισσότερες από το αναμενόμενο» οι καρδιακές φλεγμονές σε νέους άνδρες μετά τα εμβόλια Pfizer & Moderna \n",
            "  Διεθνή   Μπάιντεν: Οι ΗΠΑ θα αγοράσουν 500 εκατ. δόσεις εμβολίου για χώρες χαμηλού εισοδήματος \n",
            "  Ελλάδα   Κικίλιας: «Ανοίγουν» 420.000 ραντεβού με Moderna, Pfizer και Johnson & Johnson \n",
            "  Ελλάδα   Γεωργαντάς: Από την επόμενη εβδομάδα οι εμβολιασμοί των 25-29 με Pfizer και Moderna \n",
            "  Διεθνή   Κορωνοϊός: Ποιες χώρες έδωσαν το «πράσινο φως» για τον εμβολιασμό των παιδιών άνω των 12 ετών \n",
            "  Ελλάδα   Κικίλιας: «Σπάει» η ηλικιακή ομάδα των 18-29 για τον εμβολιασμό με Pfizer και Moderna \n",
            "  Διεθνή   Ισραήλ: «Πιθανή σύνδεση» του εμβολίου της Pfizer με περιστατικά μυοκαρδίτιδας \n",
            "  Ελλάδα   Συνελήφθη 42χρονος στο Περιστέρι: Κατηγορείται ότι έκλεψε εμβόλια της Pfizer από εμβολιαστικό κέντρο \n",
            "  Ελλάδα   Γεωργαντάς: Ανοίγουν οι εμβολιασμοί και με Pfizer & Moderna για τους 18-29 ετών \n",
            " Τα τελευταία υφασματάδικα στο κέντρο της Αθήνας\n",
            " Στον Ζήση στην Καστέλλα για παϊδάκια και κοκορέτσι\n",
            " Κοπάζει ποτέ η κίνηση στους δρόμους της Αθήνας;\n",
            " Δέκα αστυνομικά μυθιστορήματα για τις καλοκαιρινές διακοπές\n",
            " Η απίθανη, διεθνής καριέρα των Evangelos & Liza\n",
            " Η πολυσυζητημένη εμφάνιση της Μπέλα Χαντίντ στις Κάννες\n",
            " Η Ελλάδα του Ελύτη εν περιλήψει\n",
            " Χρήστος Αρμάντο Γκέζος: «Με απασχολεί πώς το παρελθόν στοιχειώνει τον άνθρωπο»\n",
            " Μύκονος: «Έσκασε» η αποχέτευση και χύθηκαν λύματα - Κόκκινη σημαία στην παραλία Πλατύς Γιαλός\n",
            " Κρήτη: Ναυαγοσώστης έσωσε την ίδια κολυμβήτρια μετά από ένα χρόνο - «Πάλι εσύ… ξανά»\n",
            " Στον εισαγγελέα ο αστυνομικός και ο πατέρας 19χρονης που κατηγορούνται ότι την εξέδιδαν και τη βίαζαν\n",
            " Η Ντέμι Μουρ έγινε νονά στην Κρήτη [ΕΙΚΟΝΕΣ]\n",
            " Διάγγελμα Μητσοτάκη: Υποχρεωτικός ο εμβολιασμός υγειονομικών - Οι κλειστοί χώροι σε μπαρ, σινεμά, θέατρα μόνο για εμβολιασμένους\n",
            " Φιλόδοξο εγχείρημα: Δίνουν έως 28.000 ευρώ σε νέους που θέλουν να μετακομίσουν στα χωριά της Καλαβρίας\n",
            " Euro 2020: Viral οι αντιδράσεις του πρίγκιπα Τζορτζ στον τελικό- Από τον ενθουσιασμό στη θλίψη\n",
            " Euro 2020: Στόχος ρατσιστικών επιθέσεων στα social media οι 3 Άγγλοι που έχασαν πέναλτι στον τελικό\n",
            " 4 cocktails με βάση το παγωμένο τσάι για να απολαύσετε στο μπαλκόνι σας φέτος το καλοκαίρι\n",
            " Έτοιμη για τη μεγάλη «γιορτή» του αθλητισμού η My Ομάδα των My market\n",
            " Η πολυσυζητημένη εμφάνιση της Μπέλα Χαντίντ στις Κάννες\n",
            " Enjoy a little Mexico: Βρεθήκαμε στον πρώτο σταθμό του Coronita Van και πήραμε μια γεύση από Μεξικό στην καρδιά της πόλης\n",
            " Cordella.gr: Happily ever after, με όλα τα δώρα που επιθυμείς, από την πρώτη online λίστα γάμου στην Ελλάδα\n",
            " «Είσαι ΤΡΟΥ Λόκαλ; Απόδειξέ το!»: Μοιραστείτε αυτό που θα ομορφύνει τη γειτονιά σας και κερδίστε μοναδικά δώρα από τη FIX Hellas\n",
            " Taste Garden: Μια ολοκληρωμένη γευστική εμπειρία στον πολύχρωμο και καλοκαιρινό κήπο του Golden Hall\n",
            " Heat by Perrier®, σε σκηνοθεσία Cary Joji Fukunaga: Η νέα διαφημιστική καμπάνια που γυρίστηκε στην Αθήνα και συμβολίζει ολόκληρο τον κόσμο\n"
          ],
          "name": "stdout"
        }
      ]
    },
    {
      "cell_type": "code",
      "metadata": {
        "colab": {
          "base_uri": "https://localhost:8080/",
          "height": 248
        },
        "id": "q6IC8ZTuNBrd",
        "outputId": "c40deb81-2ead-48f9-e9a9-3f9fe7cfa439"
      },
      "source": [
        "# Τρίτον, χρησιμοποιούμε την είδηση για να πάρουμε το summary\n",
        "\n",
        "lifo_stories_pfizer = doc2.find_all('div', {'class': 'news-relevants-content'})\n",
        "for story in lifo_stories_pfizer:\n",
        "  print(\"This is a story\")\n",
        "  headline = story.find('h3')\n",
        "  print(headline.text)\n",
        "  link = story.find('a')\n",
        "  print(link['href'])\n",
        "  summary = story.find('div', {'class': 'v2_lead'})\n",
        "  print(summary.text)"
      ],
      "execution_count": 181,
      "outputs": [
        {
          "output_type": "stream",
          "text": [
            "This is a story\n",
            "  Διεθνή   Κορωνοϊός: Το Ισραήλ ξεκινά τη χορήγηση 3ης δόσης του εμβολίου - Ποιους αφορά \n",
            "https://www.lifo.gr/now/world/koronoios-israil-xekina-ti-horigisi-3is-dosis-toy-embolioy-poioys-afora\n"
          ],
          "name": "stdout"
        },
        {
          "output_type": "error",
          "ename": "AttributeError",
          "evalue": "ignored",
          "traceback": [
            "\u001b[0;31m---------------------------------------------------------------------------\u001b[0m",
            "\u001b[0;31mAttributeError\u001b[0m                            Traceback (most recent call last)",
            "\u001b[0;32m<ipython-input-181-fbf58ccf2d43>\u001b[0m in \u001b[0;36m<module>\u001b[0;34m()\u001b[0m\n\u001b[1;32m      9\u001b[0m   \u001b[0mprint\u001b[0m\u001b[0;34m(\u001b[0m\u001b[0mlink\u001b[0m\u001b[0;34m[\u001b[0m\u001b[0;34m'href'\u001b[0m\u001b[0;34m]\u001b[0m\u001b[0;34m)\u001b[0m\u001b[0;34m\u001b[0m\u001b[0;34m\u001b[0m\u001b[0m\n\u001b[1;32m     10\u001b[0m   \u001b[0msummary\u001b[0m \u001b[0;34m=\u001b[0m \u001b[0mstory\u001b[0m\u001b[0;34m.\u001b[0m\u001b[0mfind\u001b[0m\u001b[0;34m(\u001b[0m\u001b[0;34m'div'\u001b[0m\u001b[0;34m,\u001b[0m \u001b[0;34m{\u001b[0m\u001b[0;34m'class'\u001b[0m\u001b[0;34m:\u001b[0m \u001b[0;34m'v2_lead'\u001b[0m\u001b[0;34m}\u001b[0m\u001b[0;34m)\u001b[0m\u001b[0;34m\u001b[0m\u001b[0;34m\u001b[0m\u001b[0m\n\u001b[0;32m---> 11\u001b[0;31m   \u001b[0mprint\u001b[0m\u001b[0;34m(\u001b[0m\u001b[0msummary\u001b[0m\u001b[0;34m.\u001b[0m\u001b[0mtext\u001b[0m\u001b[0;34m)\u001b[0m\u001b[0;34m\u001b[0m\u001b[0;34m\u001b[0m\u001b[0m\n\u001b[0m",
            "\u001b[0;31mAttributeError\u001b[0m: 'NoneType' object has no attribute 'text'"
          ]
        }
      ]
    },
    {
      "cell_type": "code",
      "metadata": {
        "colab": {
          "base_uri": "https://localhost:8080/"
        },
        "id": "wc9dMq2ONBxS",
        "outputId": "d0f2e533-a009-445a-da18-97c6ccf072ad"
      },
      "source": [
        "# Διορθώνουμε τον κώδικα στο summary\n",
        "\n",
        "lifo_stories_pfizer = doc2.find_all('div', {'class': 'news-relevants-content'})\n",
        "for story in lifo_stories_pfizer:\n",
        "  print(\"This is a story\")\n",
        "  headline = story.find('h3')\n",
        "  print(headline.text)\n",
        "  link = story.find('a')\n",
        "  print(link['href'])\n",
        "  summary = story.find('div', {'class': 'v2_lead'})\n",
        "  if summary: \n",
        "    print(summary.text)"
      ],
      "execution_count": 182,
      "outputs": [
        {
          "output_type": "stream",
          "text": [
            "This is a story\n",
            "  Διεθνή   Κορωνοϊός: Το Ισραήλ ξεκινά τη χορήγηση 3ης δόσης του εμβολίου - Ποιους αφορά \n",
            "https://www.lifo.gr/now/world/koronoios-israil-xekina-ti-horigisi-3is-dosis-toy-embolioy-poioys-afora\n",
            "This is a story\n",
            "  Διεθνή   ΕΜΑ: Πιθανή σύνδεση σπάνιας καρδιακής φλεγμονής με εμβόλια mRNA \n",
            "https://www.lifo.gr/now/world/o-ema-entopizei-pithani-syndesi-metaxy-kardiakis-flegmonis-kai-embolion-mrna\n",
            "This is a story\n",
            "  Διεθνή   Εμβόλιο Pfizer: Το Ισραήλ ανέφερε πτώση της προστασίας από μόλυνση και συμπτωματική νόσηση \n",
            "https://www.lifo.gr/now/world/israil-blepei-ptosi-tis-prostasias-poy-parehei-embolio-tis-pfizer-apo-ti-molynsi\n",
            "This is a story\n",
            "  Τech & Science   Μελέτη ΕΚΠΑ: Ποιοι πρέπει να λάβουν και τρίτη δόση εμβολίου της Pfizer \n",
            "https://www.lifo.gr/now/tech-science/meleti-ekpa-poioi-prepei-na-laboyn-kai-triti-dosi-embolioy-tis-pfizer\n",
            "This is a story\n",
            "  Ελλάδα   Εύοσμος: 81χρονη πήρε φιαλίδιο της Pfizer από εμβολιαστικό κέντρο, «ως ενθύμιο» \n",
            "https://www.lifo.gr/now/greece/eyosmos-81hroni-pire-fialidio-tis-pfizer-apo-emboliastiko-kentro-os-enthymio\n",
            "This is a story\n",
            "  Διεθνή   Τα εμβόλια της AstraZeneca και της Pfizer είναι αποτελεσματικά απέναντι στην παραλλαγή Δέλτα, σύμφωνα με μελέτη \n",
            "https://www.lifo.gr/now/world/ta-embolia-tis-astrazeneca-kai-tis-pfizer-einai-apotelesmatika-apenanti-stin-parallagi\n",
            "This is a story\n",
            "  Ελλάδα   Καλάβρυτα: Δεν φαίνεται να σχετίζεται ο θάνατος της 56χρονης με τον εμβολιασμό \n",
            "https://www.lifo.gr/now/greece/kalabryta-den-fainetai-na-shetizetai-o-thanatos-tis-56hronis-me-ton-emboliasmo\n",
            "This is a story\n",
            "  Διεθνή   Το Ισραήλ στέλνει στους Παλαιστίνιους ένα εκατ. δόσεις Pfizer που λήγουν σύντομα \n",
            "https://www.lifo.gr/now/world/israil-stelnei-stoys-palaistinioys-ena-ekat-doseis-pfizer-poy-ligoyn-syntoma\n",
            "This is a story\n",
            "  Ελλάδα   Παπαευαγγέλου: 25-27 αναφορές για μυοκαρδίτιδα μετά το Pfizer- Δεν έχουν συσχετιστεί σαφώς με το εμβόλιο \n",
            "https://www.lifo.gr/now/greece/papaeyaggeloy-25-27-anafores-gia-myokarditida-meta-pfizer-den-ehoyn-syshetistei-safos-me\n",
            "This is a story\n",
            "  Ελλάδα   Eμβόλια Pfizer και Moderna -ΕΚΠΑ: Αυτές είναι οι παρενέργειες που έχουν αναφερθεί \n",
            "https://www.lifo.gr/now/greece/embolia-pfizer-kai-moderna-ekpa-aytes-einai-oi-parenergeies-poy-ehoyn-anaferthei\n",
            "This is a story\n",
            "  Ελλάδα   Εμβολιασμός: Τέλος το AstraZeneca για κάτω των 60- Ανοίγει η πλατφόρμα για τους 18-24 \n",
            "https://www.lifo.gr/now/greece/emboliasmos-telos-astrazeneca-gia-kato-ton-60-anoigei-i-platforma-gia-toys-18-24\n",
            "This is a story\n",
            "  Διεθνή   CDC: «Περισσότερες από το αναμενόμενο» οι καρδιακές φλεγμονές σε νέους άνδρες μετά τα εμβόλια Pfizer & Moderna \n",
            "https://www.lifo.gr/now/world/cdc-perissoteres-apo-anamenomeno-oi-periptoseis-kardiakis-flegmonis-se-nearoys-andres\n",
            "This is a story\n",
            "  Διεθνή   Μπάιντεν: Οι ΗΠΑ θα αγοράσουν 500 εκατ. δόσεις εμβολίου για χώρες χαμηλού εισοδήματος \n",
            "https://www.lifo.gr/now/world/mpainten-oi-ipa-tha-agorasoyn-500-ekat-doseis-embolioy-gia-hores-hamiloy-eisodimatos\n",
            "This is a story\n",
            "  Ελλάδα   Κικίλιας: «Ανοίγουν» 420.000 ραντεβού με Moderna, Pfizer και Johnson & Johnson \n",
            "https://www.lifo.gr/now/greece/kikilias-anoigoyn-420000-ranteboy-me-moderna-pfizer-kai-johnson-johnson\n",
            "This is a story\n",
            "  Ελλάδα   Γεωργαντάς: Από την επόμενη εβδομάδα οι εμβολιασμοί των 25-29 με Pfizer και Moderna \n",
            "https://www.lifo.gr/now/greece/georgantas-apo-tin-epomeni-ebdomada-oi-emboliasmoi-ton-25-29-me-pfizer-kai-moderna\n",
            "This is a story\n",
            "  Διεθνή   Κορωνοϊός: Ποιες χώρες έδωσαν το «πράσινο φως» για τον εμβολιασμό των παιδιών άνω των 12 ετών \n",
            "https://www.lifo.gr/now/world/koronoios-poies-hores-edosan-prasino-fos-gia-ton-emboliasmo-ton-paidion-ano-ton-12-eton\n",
            "This is a story\n",
            "  Ελλάδα   Κικίλιας: «Σπάει» η ηλικιακή ομάδα των 18-29 για τον εμβολιασμό με Pfizer και Moderna \n",
            "https://www.lifo.gr/now/greece/kikilias-spaei-i-ilikiaki-omada-ton-18-29-gia-ton-emboliasmo-me-pfizer-kai-moderna\n",
            "This is a story\n",
            "  Διεθνή   Ισραήλ: «Πιθανή σύνδεση» του εμβολίου της Pfizer με περιστατικά μυοκαρδίτιδας \n",
            "https://www.lifo.gr/now/world/israil-pithani-syndesi-toy-embolioy-tis-pfizer-me-peristatika-myokarditidas\n",
            "This is a story\n",
            "  Ελλάδα   Συνελήφθη 42χρονος στο Περιστέρι: Κατηγορείται ότι έκλεψε εμβόλια της Pfizer από εμβολιαστικό κέντρο \n",
            "https://www.lifo.gr/now/greece/synelifthi-42hronos-sto-peristeri-katigoreitai-oti-eklepse-embolia-tis-pfizer-apo\n",
            "This is a story\n",
            "  Ελλάδα   Γεωργαντάς: Ανοίγουν οι εμβολιασμοί και με Pfizer & Moderna για τους 18-29 ετών \n",
            "https://www.lifo.gr/now/greece/georgantas-anoigoyn-oi-emboliasmoi-kai-me-pfizer-moderna-gia-toys-18-29-eton\n"
          ],
          "name": "stdout"
        }
      ]
    },
    {
      "cell_type": "markdown",
      "metadata": {
        "id": "L2dFuqTtgvHx"
      },
      "source": [
        "Το πρόβλημα που είχα με το scraping είναι ότι, ενώ στον κώδικα δεν μου εμφάνιζε κάποιο θέμα με το summary, τελικά στο dataframe δεν μου το τύπωνε. Βέβαια, τα δεδομένα από το scraping δεν τα αξιοποίησα για τις υπόλοιπες αναλύσεις, γιατί βασίστηκα στα hashtags του Twitter για text analysis, sentiment analysis κ.λπ."
      ]
    },
    {
      "cell_type": "markdown",
      "metadata": {
        "id": "Q1nWaRKFUmlo"
      },
      "source": [
        "## Συλλογή δεδομένων από το Twitter"
      ]
    },
    {
      "cell_type": "code",
      "metadata": {
        "id": "M7VtHlHCxqda"
      },
      "source": [
        "from google.colab import drive\n",
        "drive.mount('/content/gdrive')"
      ],
      "execution_count": null,
      "outputs": []
    },
    {
      "cell_type": "code",
      "metadata": {
        "colab": {
          "base_uri": "https://localhost:8080/"
        },
        "id": "NybpHzvdOnvU",
        "outputId": "fac5c230-528f-43dc-864b-067436a81fee"
      },
      "source": [
        "# Κάνουμε import τις απαραίτητες βιβλιοθήκες για το Twitter και τα κλειδιά.\n",
        "\n",
        "!pip install Twython\n",
        "import pandas as pd\n",
        "import numpy as np \n",
        "from twython import Twython\n",
        "\n",
        "CONSUMER_KEY = \"\"\n",
        "CONSUMER_SECRET = \"\"\n",
        "OAUTH_TOKEN = \"\"\n",
        "OAUTH_TOKEN_SECRET = \"\"\n",
        "twitter = Twython(\n",
        "    CONSUMER_KEY, CONSUMER_SECRET,\n",
        "    OAUTH_TOKEN, OAUTH_TOKEN_SECRET)"
      ],
      "execution_count": 183,
      "outputs": [
        {
          "output_type": "stream",
          "text": [
            "Requirement already satisfied: Twython in /usr/local/lib/python3.7/dist-packages (3.8.2)\n",
            "Requirement already satisfied: requests-oauthlib>=0.4.0 in /usr/local/lib/python3.7/dist-packages (from Twython) (1.3.0)\n",
            "Requirement already satisfied: requests>=2.1.0 in /usr/local/lib/python3.7/dist-packages (from Twython) (2.23.0)\n",
            "Requirement already satisfied: oauthlib>=3.0.0 in /usr/local/lib/python3.7/dist-packages (from requests-oauthlib>=0.4.0->Twython) (3.1.1)\n",
            "Requirement already satisfied: chardet<4,>=3.0.2 in /usr/local/lib/python3.7/dist-packages (from requests>=2.1.0->Twython) (3.0.4)\n",
            "Requirement already satisfied: certifi>=2017.4.17 in /usr/local/lib/python3.7/dist-packages (from requests>=2.1.0->Twython) (2021.5.30)\n",
            "Requirement already satisfied: idna<3,>=2.5 in /usr/local/lib/python3.7/dist-packages (from requests>=2.1.0->Twython) (2.10)\n",
            "Requirement already satisfied: urllib3!=1.25.0,!=1.25.1,<1.26,>=1.21.1 in /usr/local/lib/python3.7/dist-packages (from requests>=2.1.0->Twython) (1.24.3)\n"
          ],
          "name": "stdout"
        }
      ]
    },
    {
      "cell_type": "code",
      "metadata": {
        "colab": {
          "base_uri": "https://localhost:8080/"
        },
        "id": "Bew48jQVUtbW",
        "outputId": "91e94be6-a31c-4c5b-e265-76bae1f7965b"
      },
      "source": [
        "#Τα tweets για το εμβόλιο AstraZeneca\n",
        "\n",
        "tweets = []\n",
        "MAX_ATTEMPTS = 40\n",
        "COUNT_OF_TWEETS_TO_BE_FETCHED = 3800 \n",
        "\n",
        "for i in range(0,MAX_ATTEMPTS):\n",
        "\n",
        "    if(COUNT_OF_TWEETS_TO_BE_FETCHED < len(tweets)):\n",
        "        print(\"We Got \", len(tweets), \" tweets!!!\")\n",
        "        break # we got the  tweets... !!\n",
        "\n",
        "    #----------------------------------------------------------------#\n",
        "    # STEP 1: Query Twitter\n",
        "    # STEP 2: Save the returned tweets\n",
        "    # STEP 3: Get the next max_id\n",
        "    #----------------------------------------------------------------#\n",
        "\n",
        "    # STEP 1: Query Twitter\n",
        "    if(0 == i):\n",
        "        # Query twitter for data. \n",
        "        results = twitter.search(q=\"ΑστραΖένεκα\",count='100')\n",
        "        print(\"I Got:\", len(results['statuses']), \" tweets\")\n",
        "    else:\n",
        "        # After the first call we should have max_id from result of previous call. Pass it in query.\n",
        "        results = twitter.search(q=\"ΑστραΖένεκα\",count='100', include_entities='true',max_id=next_max_id)\n",
        "        print(\"I Got:\", len(results['statuses']), \" tweets\")\n",
        "\n",
        "\n",
        "    # STEP 2: Save the returned tweets\n",
        "    for result in results['statuses']:\n",
        "#        tweet_text = result['text']\n",
        "        tweets.append(result)\n",
        "\n",
        "\n",
        "    # STEP 3: Get the next max_id\n",
        "    try:\n",
        "        # Parse the data returned to get max_id to be passed in consequent call.\n",
        "        next_results_url_params = results['search_metadata']['next_results']\n",
        "        next_max_id = next_results_url_params.split('max_id=')[1].split('&')[0]\n",
        "    except:\n",
        "        # No more next pages\n",
        "        break"
      ],
      "execution_count": 184,
      "outputs": [
        {
          "output_type": "stream",
          "text": [
            "I Got: 100  tweets\n",
            "I Got: 100  tweets\n",
            "I Got: 100  tweets\n",
            "I Got: 100  tweets\n",
            "I Got: 17  tweets\n",
            "I Got: 0  tweets\n"
          ],
          "name": "stdout"
        }
      ]
    },
    {
      "cell_type": "code",
      "metadata": {
        "id": "m6Cve8gVOn2Y"
      },
      "source": [
        "# Δημιουργούμε το dataframe για τα tweets της AstraZeneca\n",
        "\n",
        "tweets_df_astrazeneca = pd.DataFrame(tweets)"
      ],
      "execution_count": 185,
      "outputs": []
    },
    {
      "cell_type": "code",
      "metadata": {
        "id": "zJ_b2RJotRK5"
      },
      "source": [
        "# Tυπώνουμε το dataframe\n",
        "\n",
        "tweets_df_astrazeneca.tail()\n",
        "tweets_df_astrazeneca.to_csv(\"/content/gdrive/MyDrive/Colab Notebooks/astrazeneca_tweets.csv\", index=False)"
      ],
      "execution_count": 197,
      "outputs": []
    },
    {
      "cell_type": "code",
      "metadata": {
        "colab": {
          "base_uri": "https://localhost:8080/"
        },
        "id": "7hXfG4O1tRRj",
        "outputId": "d93380c2-ec44-4d9f-8615-d47628376268"
      },
      "source": [
        "# Tα tweets για το εμβόλιο Pfizer\n",
        "\n",
        "tweets_pfizer = []\n",
        "MAX_ATTEMPTS = 40\n",
        "COUNT_OF_TWEETS_TO_BE_FETCHED = 3800 \n",
        "\n",
        "for i in range(0,MAX_ATTEMPTS):\n",
        "\n",
        "    if(COUNT_OF_TWEETS_TO_BE_FETCHED < len(tweets_pfizer)):\n",
        "        print(\"We Got \", len(tweets_pfizer), \" tweets!!!\")\n",
        "        break # we got the  tweets... !!\n",
        "\n",
        "    #----------------------------------------------------------------#\n",
        "    # STEP 1: Query Twitter\n",
        "    # STEP 2: Save the returned tweets\n",
        "    # STEP 3: Get the next max_id\n",
        "    #----------------------------------------------------------------#\n",
        "\n",
        "    # STEP 1: Query Twitter\n",
        "    if(0 == i):\n",
        "        # Query twitter for data. \n",
        "        results = twitter.search(q=\"Φαιζερ\",count='100')\n",
        "        print(\"I Got:\", len(results['statuses']), \" tweets\")\n",
        "    else:\n",
        "        # After the first call we should have max_id from result of previous call. Pass it in query.\n",
        "        results = twitter.search(q=\"Φαιζερ\",count='100', include_entities='true',max_id=next_max_id)\n",
        "        print(\"I Got:\", len(results['statuses']), \" tweets\")\n",
        "\n",
        "\n",
        "    # STEP 2: Save the returned tweets\n",
        "    for result in results['statuses']:\n",
        "#        tweet_text = result['text']\n",
        "        tweets_pfizer.append(result)\n",
        "\n",
        "\n",
        "    # STEP 3: Get the next max_id\n",
        "    try:\n",
        "        # Parse the data returned to get max_id to be passed in consequent call.\n",
        "        next_results_url_params = results['search_metadata']['next_results']\n",
        "        next_max_id = next_results_url_params.split('max_id=')[1].split('&')[0]\n",
        "    except:\n",
        "        # No more next pages\n",
        "        break"
      ],
      "execution_count": 187,
      "outputs": [
        {
          "output_type": "stream",
          "text": [
            "I Got: 100  tweets\n",
            "I Got: 100  tweets\n",
            "I Got: 100  tweets\n",
            "I Got: 100  tweets\n",
            "I Got: 100  tweets\n",
            "I Got: 100  tweets\n",
            "I Got: 33  tweets\n",
            "I Got: 0  tweets\n"
          ],
          "name": "stdout"
        }
      ]
    },
    {
      "cell_type": "code",
      "metadata": {
        "id": "sBsFJuWcta2-"
      },
      "source": [
        "# Δημιουργούμε το dataframe για τα tweets της Pfizer\n",
        "\n",
        "tweets_df_pfizer = pd.DataFrame(tweets_pfizer)"
      ],
      "execution_count": 188,
      "outputs": []
    },
    {
      "cell_type": "code",
      "metadata": {
        "id": "zGsXtF6KbR5C"
      },
      "source": [
        "# Tυπώνουμε το dataframe\n",
        "\n",
        "tweets_df_pfizer.tail()\n",
        "tweets_df_pfizer.to_csv(\"/content/gdrive/MyDrive/Colab Notebooks/pfizer_tweets.csv\", index=False)"
      ],
      "execution_count": 198,
      "outputs": []
    },
    {
      "cell_type": "markdown",
      "metadata": {
        "id": "ExOW5bKW62eF"
      },
      "source": [
        "2. Τα δεδομένα θα πρέπει να εισαχθούν στην Python σε μορφή dataframe."
      ]
    },
    {
      "cell_type": "code",
      "metadata": {
        "id": "1zcL-ROF68ce",
        "colab": {
          "base_uri": "https://localhost:8080/"
        },
        "outputId": "35f1f794-2084-4a83-8db2-5381a5844e44"
      },
      "source": [
        "# Μετατρέπουμε σε dataframe τα δεδομένα που έχουμε κάνει scraping για το εμβόλιο AstraZeneca\n",
        "\n",
        "# Ξεκινάμε με μια άδεια λίστα\n",
        "astrazeneca_list = []\n",
        "astrazeneca = doc.find_all('div', {'class': 'news-relevants-content'})\n",
        "for story in astrazeneca:\n",
        "    # Φτιάχνουμε ένα λεξικό χωρίς τίποτα\n",
        "    astrazeneca_dict = {}\n",
        "    headline = story.find('h3')\n",
        "    if headline:\n",
        "        astrazeneca_dict['headline'] = headline.text\n",
        "    link = story.find('a')\n",
        "    if link:\n",
        "        astrazeneca_dict['url'] = link['href']\n",
        "    summary = story.find('div', {'class':'v2_lead'})\n",
        "    if summary:\n",
        "        astrazeneca_dict['summary'] = summary.text\n",
        "    # Προσθέτουμε το λεξικό στη λίστα \n",
        "    astrazeneca_list.append(astrazeneca_dict)\n",
        "    \n",
        "# Τώρα που τελειώσαμε μετέτρεψε το σε CSV και αποθήκευσε το.\n",
        "import pandas as pd\n",
        "df_astrazeneca = pd.DataFrame(astrazeneca_list)\n",
        "\n",
        "from google.colab import drive\n",
        "drive.mount('/content/gdrive')\n",
        "df_astrazeneca.to_csv(\"/content/gdrive/MyDrive/Colab Notebooks/astrazeneca_scraping.csv\", index=False)"
      ],
      "execution_count": 195,
      "outputs": [
        {
          "output_type": "stream",
          "text": [
            "Drive already mounted at /content/gdrive; to attempt to forcibly remount, call drive.mount(\"/content/gdrive\", force_remount=True).\n"
          ],
          "name": "stdout"
        }
      ]
    },
    {
      "cell_type": "code",
      "metadata": {
        "id": "MNc7ciJBlInK"
      },
      "source": [
        "# Τυπώνουμε το dataframe για το AstraZeneca\n",
        "\n",
        "df_astrazeneca.head()"
      ],
      "execution_count": null,
      "outputs": []
    },
    {
      "cell_type": "code",
      "metadata": {
        "id": "9s2-vTanlItg"
      },
      "source": [
        "# Μετατρέπουμε σε dataframe τα δεδομένα που έχουμε κάνει scraping για το εμβόλιο Pfizer\n",
        "\n",
        "# Ξεκινάμε με μια άδεια λίστα\n",
        "pfizer_list = []\n",
        "pfizer = doc2.find_all('div', {'class': 'news-relevants-content'})\n",
        "for story in pfizer:\n",
        "    # Φτιάχνουμε ένα λεξικό χωρίς τίποτα\n",
        "    pfizer_dict = {}\n",
        "    headline = story.find('h3')\n",
        "    if headline:\n",
        "        pfizer_dict['headline'] = headline.text\n",
        "    link = story.find('a')\n",
        "    if link:\n",
        "        pfizer_dict['url'] = link['href']\n",
        "    summary = story.find('div', {'class': 'v2_lead'})\n",
        "    if summary:\n",
        "        pfizer_dict['summary'] = summary.text\n",
        "    # Προσθέτουμε το λεξικό στη λίστα \n",
        "    pfizer_list.append(pfizer_dict)\n",
        "    \n",
        "# Τώρα που τελειώσαμε μετέτρεψε το σε CSV και αποθήκευσε το.\n",
        "import pandas as pd\n",
        "df_pfizer = pd.DataFrame(pfizer_list)\n",
        "df_pfizer.to_csv(\"/content/gdrive/MyDrive/Colab Notebooks/pfizer_scraping.csv\", index=False)"
      ],
      "execution_count": 196,
      "outputs": []
    },
    {
      "cell_type": "code",
      "metadata": {
        "id": "cmsfOfPcpwE_"
      },
      "source": [
        "# Τυπώνουμε το dataframe για το Pfizer\n",
        "\n",
        "df_pfizer.head()"
      ],
      "execution_count": null,
      "outputs": []
    },
    {
      "cell_type": "code",
      "metadata": {
        "id": "FSSvlOvG688i"
      },
      "source": [
        "### Tα dataframes για τα δεδομένα που συλλέχθηκαν από το Twitter, έχουν τυπωθεί στο παραπάνω ερώτημα."
      ],
      "execution_count": null,
      "outputs": []
    },
    {
      "cell_type": "markdown",
      "metadata": {
        "id": "M6rUViwq69Vm"
      },
      "source": [
        "3. Να κάνετε καθαρισμό των δεδομένων από άχρηστα στοιχεία, NaN values, περιττά κείμενα\n",
        "και επιπλέον στήλες."
      ]
    },
    {
      "cell_type": "code",
      "metadata": {
        "id": "cLe0-VhN7FOF"
      },
      "source": [
        "### Tα dataframes που προέκυψαν μέσω scraping δεν χρειάζονται κάποιο καθάρισμα γιατί είναι συγκεκριμένες οι στήλες που μας ενδιαφέρουν.\n",
        "### Επίσης, όσον αφορά τα dataframes που προέκυψαν από το Twitter, δεν έχω κάνει κάποιο \"τυπικό\" καθάρισμα (πχ. .dropna ή .drop(\"οι στήλες που δεν μας ενδιαφέρουν\")),\n",
        "### γιατί παρακάτω έχω δημιουργήσει μικρότερα dataframes με τα columns που είναι απαραίτητα για τις υπόλοιπες αναλύσεις, οπότε κατά κάποιον τρόπο έχει γίνει\n",
        "### ένα αυτόματο cleaning. "
      ],
      "execution_count": null,
      "outputs": []
    },
    {
      "cell_type": "markdown",
      "metadata": {
        "id": "swJ5FT6t7H2P"
      },
      "source": [
        "4. Αν απαιτείται, μπορείτε να τα επεξεργαστείτε κατάλληλα (αφαίρεση stopwords,\n",
        "stemming/lemmatization)."
      ]
    },
    {
      "cell_type": "code",
      "metadata": {
        "id": "x_8C6lwxQWmY"
      },
      "source": [
        "### Έχω εφαρμόσει την αφαίρεση των stopwords και το lemmatization στο βήμα 7 (παρακάτω)."
      ],
      "execution_count": null,
      "outputs": []
    },
    {
      "cell_type": "code",
      "metadata": {
        "id": "7LQZQMBV7PUL"
      },
      "source": [
        "# H επεξεργασία του dataframe των tweets για το AstraZeneca\n",
        "\n",
        "short_astrazeneca = tweets_df_astrazeneca[['created_at', 'text']]"
      ],
      "execution_count": null,
      "outputs": []
    },
    {
      "cell_type": "code",
      "metadata": {
        "id": "GXygUl5mbKnM"
      },
      "source": [
        "# Mετονομάζουμε τις δύο στήλες που μας ενδιαφέρουν \n",
        "\n",
        "short_astrazeneca = short_astrazeneca.rename(columns={'created_at': 'date', 'full_text': 'text'})"
      ],
      "execution_count": null,
      "outputs": []
    },
    {
      "cell_type": "code",
      "metadata": {
        "id": "sSYCCdOpbKvW"
      },
      "source": [
        "# Τυπώνουμε τις αρχικές γραμμές του νέου dataframe\n",
        "\n",
        "short_astrazeneca.head()"
      ],
      "execution_count": null,
      "outputs": []
    },
    {
      "cell_type": "code",
      "metadata": {
        "id": "bzt4oiOibK2R"
      },
      "source": [
        "# Παρατηρούμε ότι η στήλη date εμφανίζεται ως object. Άρα, επόμενος στόχος είναι να μετατραπεί σε datetime\n",
        "\n",
        "short_astrazeneca.dtypes"
      ],
      "execution_count": null,
      "outputs": []
    },
    {
      "cell_type": "code",
      "metadata": {
        "id": "r30gY4ebbK80"
      },
      "source": [
        ""
      ],
      "execution_count": null,
      "outputs": []
    },
    {
      "cell_type": "code",
      "metadata": {
        "id": "YoAa_JXtQB9H"
      },
      "source": [
        "# H επεξεργασία του dataframe των tweets για το Pfizer\n",
        "\n",
        "short_pfizer = tweets_df_pfizer[['created_at', 'text']]"
      ],
      "execution_count": null,
      "outputs": []
    },
    {
      "cell_type": "code",
      "metadata": {
        "id": "pL6xftIsQZhh"
      },
      "source": [
        "# Mετονομάζουμε τις δύο στήλες που μας ενδιαφέρουν \n",
        "\n",
        "short_pfizer = short_pfizer.rename(columns={'created_at': 'date', 'full_text': 'text'})"
      ],
      "execution_count": null,
      "outputs": []
    },
    {
      "cell_type": "code",
      "metadata": {
        "id": "Iuufs1uCQZp-"
      },
      "source": [
        "# Τυπώνουμε τις αρχικές γραμμές του νέου dataframe\n",
        "\n",
        "short_pfizer.head()"
      ],
      "execution_count": null,
      "outputs": []
    },
    {
      "cell_type": "code",
      "metadata": {
        "id": "770ZZRu7QZxF"
      },
      "source": [
        "# Παρατηρούμε ότι η στήλη date εμφανίζεται ως object. Άρα, επόμενος στόχος είναι να μετατραπεί σε datetime\n",
        "\n",
        "short_pfizer.dtypes"
      ],
      "execution_count": null,
      "outputs": []
    },
    {
      "cell_type": "markdown",
      "metadata": {
        "id": "ulh0j7uk7Pv8"
      },
      "source": [
        "5. Να δημιουργήσετε νέες παραμέτρους ως στήλες στο dataframe όπως o μήνας, ο χρόνος,\n",
        "ένα ποσοστό κ.λπ."
      ]
    },
    {
      "cell_type": "markdown",
      "metadata": {
        "id": "bET70GHAczbk"
      },
      "source": [
        "## Tweets για AstraZeneca"
      ]
    },
    {
      "cell_type": "code",
      "metadata": {
        "id": "k1NfBIjF7SeR"
      },
      "source": [
        "# Μετατρέπουμε σε datetime τη στήλη 'date' στο dataframe για τα tweets της AstraZeneca\n",
        "\n",
        "short_astrazeneca['date'] = pd.to_datetime(short_astrazeneca['date'], format='%a %b %d %H:%M:%S +0000 %Y')"
      ],
      "execution_count": null,
      "outputs": []
    },
    {
      "cell_type": "code",
      "metadata": {
        "id": "Ciq7P_Kh7UQn"
      },
      "source": [
        "# Προσθέτουμε τις νέες στήλες του dataframe\n",
        "\n",
        "short_astrazeneca['year'] = pd.DatetimeIndex(short_astrazeneca['date']).year\n",
        "short_astrazeneca['month'] = pd.DatetimeIndex(short_astrazeneca['date']).month\n",
        "short_astrazeneca['day'] = pd.DatetimeIndex(short_astrazeneca['date']).day"
      ],
      "execution_count": null,
      "outputs": []
    },
    {
      "cell_type": "code",
      "metadata": {
        "id": "mOxpc4sV7UT5"
      },
      "source": [
        "# To νέο dataframe με τις ημερομηνίες\n",
        "\n",
        "short_astrazeneca.head()"
      ],
      "execution_count": null,
      "outputs": []
    },
    {
      "cell_type": "markdown",
      "metadata": {
        "id": "w_zmq6rhc_12"
      },
      "source": [
        "## Tweets για Pfizer"
      ]
    },
    {
      "cell_type": "code",
      "metadata": {
        "id": "sgZ6I82JRgoo"
      },
      "source": [
        "# Μετατρέπουμε σε datetime τη στήλη 'date' στο dataframe για τα tweets της Pfizer\n",
        "\n",
        "short_pfizer['date'] = pd.to_datetime(short_pfizer['date'], format='%a %b %d %H:%M:%S +0000 %Y')"
      ],
      "execution_count": null,
      "outputs": []
    },
    {
      "cell_type": "code",
      "metadata": {
        "id": "LNaszFjISWyn"
      },
      "source": [
        "# Προσθέτουμε τις νέες στήλες του dataframe\n",
        "\n",
        "short_pfizer['year'] = pd.DatetimeIndex(short_pfizer['date']).year\n",
        "short_pfizer['month'] = pd.DatetimeIndex(short_pfizer['date']).month\n",
        "short_pfizer['day'] = pd.DatetimeIndex(short_pfizer['date']).day"
      ],
      "execution_count": null,
      "outputs": []
    },
    {
      "cell_type": "code",
      "metadata": {
        "id": "38Bly8btSW4y"
      },
      "source": [
        "# To νέο dataframe με τις ημερομηνίες\n",
        "\n",
        "short_pfizer.head()"
      ],
      "execution_count": null,
      "outputs": []
    },
    {
      "cell_type": "markdown",
      "metadata": {
        "id": "EgZ2FlHW7Uny"
      },
      "source": [
        "6. Να πραγματοποιήσετε αναλύσεις στα αριθμητικά δεδομένα σας και να δημιουργήσετε τα\n",
        "αντίστοιχα γραφήματα, τα οποία δείχνουν χαρακτηριστικά και συσχετίσεις που κρύβουν τα\n",
        "δεδομένα σας."
      ]
    },
    {
      "cell_type": "code",
      "metadata": {
        "id": "QedLFMW77dSu"
      },
      "source": [
        "# Μια ενδιαφέρουσα ανάλυση είναι να δούμε πώς αυξήθηκε ή μειώθηκε ο αριθμός των tweets για τα συγκεκριμένα εμβόλια τις τελευταίες μέρες του μήνα (Ιούλιος 2021)\n",
        "# Για παράδειγμα, ένα πιθανό ερώτημα είναι εάν αυξήθηκε ο αριθμός των tweets για τα εμβόλια μετά την νέα \"έκρηξη\" των κρουσμάτων (4ο κύμα). \n",
        "\n",
        "# short_astrazeneca['day'].value_counts().plot(kind='bar')"
      ],
      "execution_count": null,
      "outputs": []
    },
    {
      "cell_type": "code",
      "metadata": {
        "id": "M6COXNLW7d_y"
      },
      "source": [
        "# Επαναλαμβάνουμε το ίδιο πλοτάρισμα και για το εμβόλιο της Pfizer\n",
        "\n",
        "short_pfizer['day'].value_counts().plot(kind='bar')"
      ],
      "execution_count": null,
      "outputs": []
    },
    {
      "cell_type": "markdown",
      "metadata": {
        "id": "fSu4m1nN7ekU"
      },
      "source": [
        "7. Μπορείτε να δημιουργήσετε διάφορα γραφήματα από τα κείμενά σας όπως (α) ένα \n",
        "wordcloud, (β) ένα διάγραμμα με τις 15 πιο συχνές λέξεις και (γ) ένα διάγραμμα με τα πιο\n",
        "συχνά διγράμματα (bigrams)."
      ]
    },
    {
      "cell_type": "code",
      "metadata": {
        "id": "0KXF3QSB7jb6"
      },
      "source": [
        "# α) Φτιάχνουμε το wordcloud για τα tweets της AstraZeneca\n",
        "\n",
        "from wordcloud import WordCloud, STOPWORDS\n",
        "import matplotlib.pyplot as plt"
      ],
      "execution_count": null,
      "outputs": []
    },
    {
      "cell_type": "code",
      "metadata": {
        "id": "Mp_c6g7n7mLm"
      },
      "source": [
        "# Μας ενδιαφέρουν μόνο όσα είναι για το 2021\n",
        "\n",
        "short_astrazeneca[short_astrazeneca['year'] == 2021]['text']"
      ],
      "execution_count": null,
      "outputs": []
    },
    {
      "cell_type": "code",
      "metadata": {
        "id": "U9cTwyea7mPP"
      },
      "source": [
        "# Αφαιρούμε όσα σύμβολα δεν χρειάζονται\n",
        "\n",
        "text = short_astrazeneca[short_astrazeneca['year']==2021]['text'].str.cat(sep = ' ').replace(\"amp\", ' ').replace('@Dimm1000:', ' ').replace('RT', ' ').replace('https', ' ').replace('co', ' ')"
      ],
      "execution_count": null,
      "outputs": []
    },
    {
      "cell_type": "code",
      "metadata": {
        "id": "FMHg_RBdD-4d"
      },
      "source": [
        "# Τυπώνουμε το κείμενο των tweets\n",
        "\n",
        "text"
      ],
      "execution_count": null,
      "outputs": []
    },
    {
      "cell_type": "code",
      "metadata": {
        "id": "l9OV1ultD_P2"
      },
      "source": [
        "wordcloud = WordCloud(\n",
        "#   stopwords = STOPWORDS,\n",
        "    width = 2000,\n",
        "    height = 1000,\n",
        "    background_color = 'black'\n",
        " ).generate(text)\n",
        "fig = plt.figure(\n",
        "    figsize = (40, 30),\n",
        "    facecolor = 'k',\n",
        "    edgecolor = 'k')\n",
        "plt.imshow(wordcloud, interpolation = 'bilinear')\n",
        "plt.axis('off')\n",
        "plt.tight_layout(pad=0)\n",
        "plt.show()"
      ],
      "execution_count": null,
      "outputs": []
    },
    {
      "cell_type": "code",
      "metadata": {
        "id": "hHsm33oqD_Vm"
      },
      "source": [
        "# Χρειάζονται ορισμένες διορθώσεις στα stopwords, οπότε εισάγουμε και τη βιβλιοθήκη spacy\n",
        "\n",
        "import spacy"
      ],
      "execution_count": null,
      "outputs": []
    },
    {
      "cell_type": "code",
      "metadata": {
        "id": "QPpi1ceLJHub"
      },
      "source": [
        "!python -m spacy download el_core_news_sm\n",
        "\n",
        "# Επειτα κάνουμε Runtime ->  Restart Runtime, για να δει τις αλλαγές από το download..."
      ],
      "execution_count": null,
      "outputs": []
    },
    {
      "cell_type": "code",
      "metadata": {
        "id": "hI7W1_uAJH2h"
      },
      "source": [
        "nlp = spacy.load('el_core_news_sm')"
      ],
      "execution_count": null,
      "outputs": []
    },
    {
      "cell_type": "code",
      "metadata": {
        "id": "alUroQa0JH86"
      },
      "source": [
        "wordcloud = WordCloud(\n",
        "    stopwords = nlp.Defaults.stop_words,\n",
        "    width = 2000,\n",
        "    height = 1000,\n",
        "    background_color = 'black'\n",
        " ).generate(text)\n",
        "fig = plt.figure(\n",
        "    figsize = (40, 30),\n",
        "    facecolor = 'k',\n",
        "    edgecolor = 'k')\n",
        "plt.imshow(wordcloud, interpolation = 'bilinear')\n",
        "plt.axis('off')\n",
        "plt.tight_layout(pad=0)\n",
        "plt.show()"
      ],
      "execution_count": null,
      "outputs": []
    },
    {
      "cell_type": "markdown",
      "metadata": {
        "id": "NQ91NnS8YmOh"
      },
      "source": [
        "## Tokenization για τα tweets της AstraZeneca"
      ]
    },
    {
      "cell_type": "code",
      "metadata": {
        "id": "RkMTC_VWK3Vn"
      },
      "source": [
        "# Εφαρμόζουμε το tokenization\n",
        "\n",
        "doc = nlp(short_astrazeneca['text'][1])"
      ],
      "execution_count": null,
      "outputs": []
    },
    {
      "cell_type": "code",
      "metadata": {
        "id": "KP93-GbnK3dP"
      },
      "source": [
        "for token in doc: \n",
        "  print(token, token.lemma_)"
      ],
      "execution_count": null,
      "outputs": []
    },
    {
      "cell_type": "code",
      "metadata": {
        "id": "vaxRv4w5K3js"
      },
      "source": [
        "' '.join(token.lemma_ for token in doc)"
      ],
      "execution_count": null,
      "outputs": []
    },
    {
      "cell_type": "code",
      "metadata": {
        "id": "4NP87QqOPBzS"
      },
      "source": [
        "text"
      ],
      "execution_count": null,
      "outputs": []
    },
    {
      "cell_type": "code",
      "metadata": {
        "id": "_k6yD8nGPB7Y"
      },
      "source": [
        "full_doc = nlp(text)"
      ],
      "execution_count": null,
      "outputs": []
    },
    {
      "cell_type": "code",
      "metadata": {
        "id": "gyvV1g6APCCO"
      },
      "source": [
        "clear_text = ' '.join(token.lemma_ for token in full_doc)"
      ],
      "execution_count": null,
      "outputs": []
    },
    {
      "cell_type": "code",
      "metadata": {
        "id": "ih4jdeqfPCLg"
      },
      "source": [
        "clear_text[200:400]"
      ],
      "execution_count": null,
      "outputs": []
    },
    {
      "cell_type": "code",
      "metadata": {
        "id": "bAHven8VXBG8"
      },
      "source": [
        "wordcloud = WordCloud(\n",
        "    stopwords = nlp.Defaults.stop_words,\n",
        "    width = 2000,\n",
        "    height = 1000,\n",
        "    background_color = 'black'\n",
        " ).generate(clear_text)\n",
        "fig = plt.figure(\n",
        "    figsize = (40, 30),\n",
        "    facecolor = 'k',\n",
        "    edgecolor = 'k')\n",
        "plt.imshow(wordcloud, interpolation = 'bilinear')\n",
        "plt.axis('off')\n",
        "plt.tight_layout(pad=0)\n",
        "plt.show()"
      ],
      "execution_count": null,
      "outputs": []
    },
    {
      "cell_type": "markdown",
      "metadata": {
        "id": "zZy_2eYaYxgV"
      },
      "source": [
        "Φαίνεται ότι τα αποτελέσματα τώρα είναι καλύτερα, αλλά ακόμη υπάρχουν λέξεις που επαναλαμβάνονται..."
      ]
    },
    {
      "cell_type": "markdown",
      "metadata": {
        "id": "x7OdeJ1VY7wv"
      },
      "source": [
        "## Tokenization για τα tweets της Pfizer"
      ]
    },
    {
      "cell_type": "code",
      "metadata": {
        "id": "ciBlmknXG6Vp"
      },
      "source": [
        "# Μας ενδιαφέρουν μόνο όσα είναι για το 2021\n",
        "\n",
        "short_pfizer[short_pfizer['year'] == 2021]['text']"
      ],
      "execution_count": null,
      "outputs": []
    },
    {
      "cell_type": "code",
      "metadata": {
        "id": "PBXSD9pCG6el"
      },
      "source": [
        "# Αφαιρούμε όσα σύμβολα δεν χρειάζονται\n",
        "\n",
        "text_2 = short_pfizer[short_pfizer['year']==2021]['text'].str.cat(sep = ' ').replace(\"amp\", ' ').replace('https', ' ').replace('co', ' ').replace('://t.', ' ').replace('RT', ' ')"
      ],
      "execution_count": null,
      "outputs": []
    },
    {
      "cell_type": "code",
      "metadata": {
        "id": "09UPelbeG6m1"
      },
      "source": [
        "# Τυπώνουμε το κείμενο των tweets\n",
        "\n",
        "text_2"
      ],
      "execution_count": null,
      "outputs": []
    },
    {
      "cell_type": "code",
      "metadata": {
        "id": "rchngYlYG6xA"
      },
      "source": [
        "wordcloud = WordCloud(\n",
        "#   stopwords = STOPWORDS,\n",
        "    width = 2000,\n",
        "    height = 1000,\n",
        "    background_color = 'black'\n",
        " ).generate(text_2)\n",
        "fig = plt.figure(\n",
        "    figsize = (40, 30),\n",
        "    facecolor = 'k',\n",
        "    edgecolor = 'k')\n",
        "plt.imshow(wordcloud, interpolation = 'bilinear')\n",
        "plt.axis('off')\n",
        "plt.tight_layout(pad=0)\n",
        "plt.show()"
      ],
      "execution_count": null,
      "outputs": []
    },
    {
      "cell_type": "code",
      "metadata": {
        "id": "9mSGm0d_HkCB"
      },
      "source": [
        "# Προσθέτουμε και τα ελληνικά stopwords\n",
        "\n",
        "wordcloud = WordCloud(\n",
        "    stopwords = nlp.Defaults.stop_words,\n",
        "    width = 2000,\n",
        "    height = 1000,\n",
        "    background_color = 'black'\n",
        " ).generate(text_2)\n",
        "fig = plt.figure(\n",
        "    figsize = (40, 30),\n",
        "    facecolor = 'k',\n",
        "    edgecolor = 'k')\n",
        "plt.imshow(wordcloud, interpolation = 'bilinear')\n",
        "plt.axis('off')\n",
        "plt.tight_layout(pad=0)\n",
        "plt.show()"
      ],
      "execution_count": null,
      "outputs": []
    },
    {
      "cell_type": "code",
      "metadata": {
        "id": "KVTOb-UGXBN-"
      },
      "source": [
        "# Εφαρμόζουμε το tokenization\n",
        "\n",
        "doc2 = nlp(short_pfizer['text'][1])"
      ],
      "execution_count": null,
      "outputs": []
    },
    {
      "cell_type": "code",
      "metadata": {
        "id": "fHkFmrNWZU99"
      },
      "source": [
        "for token in doc2: \n",
        "  print(token, token.lemma_)"
      ],
      "execution_count": null,
      "outputs": []
    },
    {
      "cell_type": "code",
      "metadata": {
        "id": "xiuH3lZaZVF7"
      },
      "source": [
        "' '.join(token.lemma_ for token in doc2)"
      ],
      "execution_count": null,
      "outputs": []
    },
    {
      "cell_type": "code",
      "metadata": {
        "id": "TSOpMHGPZVM8"
      },
      "source": [
        "text_2"
      ],
      "execution_count": null,
      "outputs": []
    },
    {
      "cell_type": "code",
      "metadata": {
        "id": "_t5smG5QXBV0"
      },
      "source": [
        "full_doc_2 = nlp(text_2)"
      ],
      "execution_count": null,
      "outputs": []
    },
    {
      "cell_type": "code",
      "metadata": {
        "id": "9WNw2ScdXBcn"
      },
      "source": [
        "clear_text_2 = ' '.join(token.lemma_ for token in full_doc_2)"
      ],
      "execution_count": null,
      "outputs": []
    },
    {
      "cell_type": "code",
      "metadata": {
        "id": "8loBMHb1cxdr"
      },
      "source": [
        "clear_text_2[200:400]"
      ],
      "execution_count": null,
      "outputs": []
    },
    {
      "cell_type": "code",
      "metadata": {
        "id": "o7Ds73Z8cxnN"
      },
      "source": [
        "wordcloud = WordCloud(\n",
        "    stopwords = nlp.Defaults.stop_words,\n",
        "    width = 2000,\n",
        "    height = 1000,\n",
        "    background_color = 'black'\n",
        " ).generate(clear_text_2)\n",
        "fig = plt.figure(\n",
        "    figsize = (40, 30),\n",
        "    facecolor = 'k',\n",
        "    edgecolor = 'k')\n",
        "plt.imshow(wordcloud, interpolation = 'bilinear')\n",
        "plt.axis('off')\n",
        "plt.tight_layout(pad=0)\n",
        "plt.show()"
      ],
      "execution_count": null,
      "outputs": []
    },
    {
      "cell_type": "code",
      "metadata": {
        "id": "1wW2ROHsFixn"
      },
      "source": [
        "# β) Διάγραμμα με τις 15 πιο συχνές λέξεις στο Twitter (AstraZeneca)"
      ],
      "execution_count": null,
      "outputs": []
    },
    {
      "cell_type": "code",
      "metadata": {
        "id": "hSgCYH9ZFi7g"
      },
      "source": [
        "#Δημιουργούμε μια λίστα για να χωρίσουμε τις λέξεις του κειμένου\n",
        "\n",
        "words_list = text.split(\" \")\n",
        "\n",
        "#Ορίζουμε τα ελληνικά stopwords\n",
        "\n",
        "stopwords = nlp.Defaults.stop_words \n",
        "\n",
        "words_without_stopwords = [ word for word in words_list if word not in stopwords ]"
      ],
      "execution_count": null,
      "outputs": []
    },
    {
      "cell_type": "code",
      "metadata": {
        "id": "F1CoGi0gFjCy"
      },
      "source": [
        "#Εισάγουμε τον Counter για να μας τυπώσει στη συνέχεια τις 16 πιο συχνές λέξεις του wordcloud\n",
        "\n",
        "from collections import Counter\n",
        "Counter(words_without_stopwords).most_common(15)"
      ],
      "execution_count": null,
      "outputs": []
    },
    {
      "cell_type": "code",
      "metadata": {
        "id": "oAcLQcy79kSn"
      },
      "source": [
        "# Δημιουργούμε το γράφημα με τις πιο συχνές λέξεις\n",
        "\n",
        "astrazeneca_graph_df = pd.DataFrame(Counter(words_without_stopwords).most_common())\n",
        "astrazeneca_graph_df.head(15)"
      ],
      "execution_count": null,
      "outputs": []
    },
    {
      "cell_type": "code",
      "metadata": {
        "id": "rCJNgyEb9kcD"
      },
      "source": [
        "astrazeneca_graph_df.head(15).plot(x=0, y=1, kind='bar', figsize=(20,6))"
      ],
      "execution_count": null,
      "outputs": []
    },
    {
      "cell_type": "code",
      "metadata": {
        "id": "IM8vRguQFjKW"
      },
      "source": [
        "# β) Διάγραμμα με τις 15 πιο συχνές λέξεις στο Twitter (Pfizer)\n",
        "# Επαναλαμβάνω τα ίδια βήματα με πριν\n",
        "\n",
        "#Δημιουργούμε μια λίστα για να χωρίσουμε τις λέξεις του κειμένου\n",
        "\n",
        "words_list_2 = text_2.split(\" \")\n",
        "\n",
        "#Ορίζουμε τα ελληνικά stopwords\n",
        "\n",
        "stopwords = nlp.Defaults.stop_words \n",
        "\n",
        "words_without_stopwords_2 = [ word for word in words_list_2 if word not in stopwords ]"
      ],
      "execution_count": null,
      "outputs": []
    },
    {
      "cell_type": "code",
      "metadata": {
        "id": "iHjrYKA8FjT9"
      },
      "source": [
        "Counter(words_without_stopwords_2).most_common(15)"
      ],
      "execution_count": null,
      "outputs": []
    },
    {
      "cell_type": "code",
      "metadata": {
        "id": "NZ1bx_1Q-yVC"
      },
      "source": [
        "# Δημιουργούμε το γράφημα με τις πιο συχνές λέξεις\n",
        "\n",
        "pfizer_graph_df = pd.DataFrame(Counter(words_without_stopwords_2).most_common())\n",
        "pfizer_graph_df.head(15)"
      ],
      "execution_count": null,
      "outputs": []
    },
    {
      "cell_type": "code",
      "metadata": {
        "id": "iKK3wB66-ydT"
      },
      "source": [
        "pfizer_graph_df.head(15).plot(x=0, y=1, kind='bar', figsize=(20,6))"
      ],
      "execution_count": null,
      "outputs": []
    },
    {
      "cell_type": "code",
      "metadata": {
        "id": "tFTuRhPaFyzM"
      },
      "source": [
        "# γ) Διάγραμμα με τα πιο συχνά bigrams"
      ],
      "execution_count": null,
      "outputs": []
    },
    {
      "cell_type": "markdown",
      "metadata": {
        "id": "bL7xUlYfn7ea"
      },
      "source": [
        "Τα διγράμματα προσπάθησα να τα φτιάξω με δύο τρόπους. Ο πρώτος είναι μέσω της αναλογίας πιθανότητας (από το classwork για το text analysis) και ο δεύτερος με τα ngrams. Όμως, με τον πρώτο τρόπο μου τύπωνε τους πιο συχνούς χαρακτήρες από το κείμενο και όχι τις πιο συχνές λέξεις, ενώ με τον δεύτερο όλους τους πιθανούς συνδυασμούς λέξεων (αλλά όχι τους πιο συχνούς)."
      ]
    },
    {
      "cell_type": "code",
      "metadata": {
        "id": "L9fHadn0PI0A"
      },
      "source": [
        "### Πρώτος τρόπος\n",
        "\n",
        "import nltk"
      ],
      "execution_count": null,
      "outputs": []
    },
    {
      "cell_type": "code",
      "metadata": {
        "id": "48z42sWeJNHR"
      },
      "source": [
        "whBigrams = nltk.collocations.BigramCollocationFinder.from_words(short_astrazeneca['text'].sum())\n",
        "print(\"Υπάρχουν {} bigrams στον finder\".format(whBigrams.N))"
      ],
      "execution_count": null,
      "outputs": []
    },
    {
      "cell_type": "code",
      "metadata": {
        "id": "WntauiOdJNRw"
      },
      "source": [
        "def bigramScoringAstraZeneca(count, wordsTuple, total):\n",
        "    return count\n",
        "\n",
        "print(whBigrams.nbest(bigramScoringAstraZeneca, 10))"
      ],
      "execution_count": null,
      "outputs": []
    },
    {
      "cell_type": "code",
      "metadata": {
        "id": "Jqx0tXc-JNZL"
      },
      "source": [
        "birgramScores = []\n",
        "\n",
        "def bigramPrinting(count, wordsTuple, total):\n",
        "    global birgramScores\n",
        "    birgramScores.append(\"Η πρώτη λέξη είναι:  {}, Η δεύτερη λέξη είναι: {}\".format(*wordsTuple))\n",
        "    #Επιστρέφει None, οπότε όλα τα tuples θεωρείται ότι έχουν το ίδιο rank\n",
        "\n",
        "whBigrams.nbest(bigramPrinting, 10)\n",
        "print('\\n'.join(birgramScores[:10]))"
      ],
      "execution_count": null,
      "outputs": []
    },
    {
      "cell_type": "code",
      "metadata": {
        "id": "TEzVnYAmJNfS"
      },
      "source": [
        "bigram_measures = nltk.collocations.BigramAssocMeasures()\n",
        "whBigrams.score_ngrams(bigram_measures.likelihood_ratio)[:40]"
      ],
      "execution_count": null,
      "outputs": []
    },
    {
      "cell_type": "code",
      "metadata": {
        "id": "s9LZzMUQ1NP5"
      },
      "source": [
        "### Δεύτερος τρόπος\n",
        "\n",
        "from textblob import TextBlob\n",
        "\n",
        "import nltk\n",
        "nltk.download('stopwords')\n",
        "nltk.download('wordnet')\n",
        "nltk.download('punkt')\n",
        "nltk.download('averaged_perceptron_tagger') "
      ],
      "execution_count": null,
      "outputs": []
    },
    {
      "cell_type": "code",
      "metadata": {
        "id": "DfGk-7lA2tuG"
      },
      "source": [
        "# To σύνολο των λέξεων στα tweets για το εμβόλιο AstraZeneca\n",
        "\n",
        "doc_astrazeneca = TextBlob(text)\n",
        "doc_astrazeneca.words"
      ],
      "execution_count": null,
      "outputs": []
    },
    {
      "cell_type": "code",
      "metadata": {
        "id": "YQ9R4laj3Rps"
      },
      "source": [
        "# H λίστα με τα διγράμματα για το AstraZeneca\n",
        "\n",
        "doc_astrazeneca.ngrams(2)"
      ],
      "execution_count": null,
      "outputs": []
    },
    {
      "cell_type": "code",
      "metadata": {
        "id": "PxoxW9rZGDmD"
      },
      "source": [
        "# To σύνολο των λέξεων στα tweets για το εμβόλιο Pfizer\n",
        "\n",
        "doc_pfizer = TextBlob(text_2)\n",
        "doc_pfizer.words"
      ],
      "execution_count": null,
      "outputs": []
    },
    {
      "cell_type": "code",
      "metadata": {
        "id": "wCvJkCCi3R2s"
      },
      "source": [
        "# H λίστα με τα διγράμματα για το Pfizer\n",
        "\n",
        "doc_pfizer.ngrams(2)"
      ],
      "execution_count": null,
      "outputs": []
    },
    {
      "cell_type": "markdown",
      "metadata": {
        "id": "8tQL0oiE7mq9"
      },
      "source": [
        "8. Χρησιμοποιήστε το πεδίο της ημερομηνίας ως index στο dataframe που θα δημιουργήσετε\n",
        "ώστε να αξιοποιήσετε τις λειτουργίες της χρονοσειράς (resample())."
      ]
    },
    {
      "cell_type": "code",
      "metadata": {
        "id": "o3RXQJpK7sxl"
      },
      "source": [
        "# Παραπάνω, έχω ήδη δημιουργήσει τη στήλη 'date' που περιλαμβάνει την ημερομηνία δημοσίευσης των tweets."
      ],
      "execution_count": null,
      "outputs": []
    },
    {
      "cell_type": "markdown",
      "metadata": {
        "id": "Qu5CcTwm7efZ"
      },
      "source": [
        "## Tweets για AstraZeneca"
      ]
    },
    {
      "cell_type": "code",
      "metadata": {
        "id": "DosURuDw7tWA"
      },
      "source": [
        "# Βάζουμε το datetime ως index του dataframe\n",
        "\n",
        "### short_astrazeneca.set_index('date', inplace=True)"
      ],
      "execution_count": null,
      "outputs": []
    },
    {
      "cell_type": "code",
      "metadata": {
        "id": "-Q28wMtfis1t"
      },
      "source": [
        "# Τυπώνουμε τις πρώτες γραμμές του νέου dataframe\n",
        "\n",
        "short_astrazeneca.head()"
      ],
      "execution_count": null,
      "outputs": []
    },
    {
      "cell_type": "markdown",
      "metadata": {
        "id": "uQr9yIef8SHm"
      },
      "source": [
        "## Tweets για Pfizer"
      ]
    },
    {
      "cell_type": "code",
      "metadata": {
        "id": "P0wuwqCQitHM"
      },
      "source": [
        "# Βάζουμε το datetime ως index του dataframe\n",
        "\n",
        "### short_pfizer.set_index('date', inplace=True)"
      ],
      "execution_count": null,
      "outputs": []
    },
    {
      "cell_type": "code",
      "metadata": {
        "id": "528lLkys8WnN"
      },
      "source": [
        "# Τυπώνουμε τις πρώτες γραμμές του νέου dataframe\n",
        "\n",
        "short_pfizer.head()"
      ],
      "execution_count": null,
      "outputs": []
    },
    {
      "cell_type": "markdown",
      "metadata": {
        "id": "nrlXFlcn7uBK"
      },
      "source": [
        "9. Κάνοντας χρήση του ελληνικού λεξικού για sentiment anaysis του NRC βρείτε την\n",
        "πολικότητα (θετική - αρνητική) και τα συναισθήματα των κειμένων σας, και αποθηκεύστε τα\n",
        "σε νέες στήλες στο dataframe των δεδομένων σας"
      ]
    },
    {
      "cell_type": "code",
      "metadata": {
        "id": "5pt99vrqDdj_"
      },
      "source": [
        "# Εισάγουμε τις απαραίτητες βιβλιοθήκες για το sentiment analysis\n",
        "\n",
        "import pandas as pd\n",
        "%matplotlib inline\n",
        "import numpy as np\n",
        "import glob\n",
        "from sklearn.feature_extraction.text import CountVectorizer\n",
        "from datetime import datetime"
      ],
      "execution_count": null,
      "outputs": []
    },
    {
      "cell_type": "code",
      "metadata": {
        "id": "JBrWR5EiDdtY"
      },
      "source": [
        "# Διαβάζουμε και τυπώνουμε το ελληνικό λεξικό\n",
        "\n",
        "filepath = \"https://raw.githubusercontent.com/datajour-gr/Data_journalism/master/week10/NRC_GREEK_Translated_6_2020.csv\"\n",
        "emolex_df = pd.read_csv(filepath)\n",
        "emolex_df.head()"
      ],
      "execution_count": null,
      "outputs": []
    },
    {
      "cell_type": "code",
      "metadata": {
        "id": "XVZLCLrMDd14"
      },
      "source": [
        "# Αφαιρούμε τα duplicates και τα NaN values\n",
        "\n",
        "emolex_df = emolex_df.drop_duplicates(subset=['word'])\n",
        "emolex_df = emolex_df.dropna()\n",
        "emolex_df.reset_index(inplace = True)"
      ],
      "execution_count": null,
      "outputs": []
    },
    {
      "cell_type": "code",
      "metadata": {
        "id": "JNJZDRYnDd9d"
      },
      "source": [
        "# Ορίζουμε τον CountVectorizer\n",
        "\n",
        "vec = CountVectorizer(analyzer = 'word', vocabulary = emolex_df.word, \n",
        "                      strip_accents = 'unicode',  \n",
        "                      stop_words= nlp.Defaults.stop_words,\n",
        "                      ngram_range=(1, 2))"
      ],
      "execution_count": null,
      "outputs": []
    },
    {
      "cell_type": "markdown",
      "metadata": {
        "id": "zkj7ZJzgIwXO"
      },
      "source": [
        "## Το sentiment analysis για το εμβόλιο AstraZeneca"
      ]
    },
    {
      "cell_type": "code",
      "metadata": {
        "id": "-JvnA6l77y6G"
      },
      "source": [
        "matrix = vec.fit_transform(short_astrazeneca['text'])\n",
        "vocab = vec.get_feature_names()\n",
        "wordcount_df = pd.DataFrame(matrix.toarray(), columns=vocab)\n",
        "wordcount_df.head()"
      ],
      "execution_count": null,
      "outputs": []
    },
    {
      "cell_type": "code",
      "metadata": {
        "id": "EwETBFMgIK2W"
      },
      "source": [
        "# Φτιάχνουμε τις λίστες με τις συναισθηματικές λέξεις που μας ενδιαφέρουν\n",
        "\n",
        "# Λίστα με positive words\n",
        "positive_words = emolex_df[emolex_df.Positive == 1]['word']\n",
        "\n",
        "# Λίστα με angry words\n",
        "angry_words = emolex_df[emolex_df.Anger == 1]['word']\n",
        "\n",
        "# Λίστα με sadness words\n",
        "sadness_words = emolex_df[emolex_df.Sadness == 1]['word']\n",
        "\n",
        "# Λίστα με surprise words\n",
        "surprise_words = emolex_df[emolex_df.Surprise == 1]['word']\n",
        "\n",
        "# Λίστα με disgust words\n",
        "disgust_words = emolex_df[emolex_df.Disgust == 1]['word']\n",
        "\n",
        "# Λίστα με anticipation words\n",
        "anticipation_words = emolex_df[emolex_df.Anticipation == 1]['word']\n",
        "\n",
        "# Λίστα με negative words\n",
        "negative_words = emolex_df[emolex_df.Negative == 1]['word']\n",
        "\n",
        "# Λίστα με joy words\n",
        "joy_words = emolex_df[emolex_df.Joy == 1]['word']\n",
        "\n",
        "# Λίστα με trust words\n",
        "trust_words = emolex_df[emolex_df.Trust == 1]['word']\n",
        "\n",
        "# Λίστα με fear words\n",
        "fear_words = emolex_df[emolex_df.Fear == 1]['word']"
      ],
      "execution_count": null,
      "outputs": []
    },
    {
      "cell_type": "code",
      "metadata": {
        "id": "tMjDadfUILAB"
      },
      "source": [
        "# Δημιουργούμε τις νέες στήλες του dataframe με τις συναισθηματικές λέξεις\n",
        "\n",
        "short_astrazeneca['anger'] = wordcount_df[angry_words].sum(axis=1)\n",
        "\n",
        "short_astrazeneca['positivity'] = wordcount_df[positive_words].sum(axis=1)\n",
        "\n",
        "short_astrazeneca['joy'] = wordcount_df[joy_words].sum(axis=1)\n",
        "\n",
        "short_astrazeneca['disgust'] = wordcount_df[disgust_words].sum(axis=1)\n",
        "\n",
        "short_astrazeneca['surprise'] = wordcount_df[surprise_words].sum(axis=1)\n",
        "\n",
        "short_astrazeneca['trust'] = wordcount_df[trust_words].sum(axis=1)\n",
        "\n",
        "short_astrazeneca['anticipation'] = wordcount_df[anticipation_words].sum(axis=1)\n",
        "\n",
        "short_astrazeneca['sadness'] = wordcount_df[sadness_words].sum(axis=1)\n",
        "\n",
        "short_astrazeneca['negative'] = wordcount_df[negative_words].sum(axis=1)\n",
        "\n",
        "short_astrazeneca['fear'] = wordcount_df[fear_words].sum(axis=1)"
      ],
      "execution_count": null,
      "outputs": []
    },
    {
      "cell_type": "code",
      "metadata": {
        "id": "BRmD42BeILI5"
      },
      "source": [
        "# Τυπώνουμε το νέο dataframe με τις στήλες των συναισθημάτων\n",
        "\n",
        "short_astrazeneca"
      ],
      "execution_count": null,
      "outputs": []
    },
    {
      "cell_type": "code",
      "metadata": {
        "id": "EoIKiO26NXbO"
      },
      "source": [
        "short_astrazeneca.set_index('date' , inplace=True)"
      ],
      "execution_count": null,
      "outputs": []
    },
    {
      "cell_type": "code",
      "metadata": {
        "id": "1Y3KlXPsNXrz"
      },
      "source": [
        "import matplotlib.pyplot as plt\n",
        "plt.style.use('ggplot')"
      ],
      "execution_count": null,
      "outputs": []
    },
    {
      "cell_type": "code",
      "metadata": {
        "id": "grapGGPsVXkp"
      },
      "source": [
        "# Οπτικοποίηση της θετικότητας (positivity) και της αρνητικότητας (negative) για AstraZeneca\n",
        "\n",
        "ax = short_astrazeneca['positivity'].resample('D').mean().plot(figsize=(16,4), \n",
        "                                                          color = 'g', label='pos')\n",
        "short_astrazeneca['negative'].resample('D').mean().plot(figsize=(16,4), ax = ax, \n",
        "                                                label = 'neg',color = 'r').legend()"
      ],
      "execution_count": null,
      "outputs": []
    },
    {
      "cell_type": "code",
      "metadata": {
        "id": "tdz5vUTLVYA7"
      },
      "source": [
        "# Οπτικοποίηση της εμπιστοσύνης (trust) και του φόβου (fear) για AstraZeneca\n",
        "\n",
        "ax = short_astrazeneca['fear'].resample('D').mean().plot(figsize=(16,4), \n",
        "                                                          color = 'yellow', label='fear')\n",
        "short_astrazeneca['trust'].resample('D').mean().plot(figsize=(16,4), ax = ax, \n",
        "                                                label = 'trust',color = 'blue').legend()"
      ],
      "execution_count": null,
      "outputs": []
    },
    {
      "cell_type": "markdown",
      "metadata": {
        "id": "bmVKLAUJN2Cr"
      },
      "source": [
        "## Το sentiment analysis για το εμβόλιο Pfizer"
      ]
    },
    {
      "cell_type": "code",
      "metadata": {
        "id": "sLnGp4HSN0ug"
      },
      "source": [
        "# Ορίζουμε τον CountVectorizer\n",
        "\n",
        "vec_2 = CountVectorizer(analyzer = 'word', vocabulary = emolex_df.word, \n",
        "                      strip_accents = 'unicode',  \n",
        "                      stop_words= nlp.Defaults.stop_words,\n",
        "                      ngram_range=(1, 2))"
      ],
      "execution_count": null,
      "outputs": []
    },
    {
      "cell_type": "code",
      "metadata": {
        "id": "M2LZRox27y9S"
      },
      "source": [
        "matrix = vec_2.fit_transform(short_pfizer['text'])\n",
        "vocab = vec_2.get_feature_names()\n",
        "wordcount_df = pd.DataFrame(matrix.toarray(), columns=vocab)\n",
        "wordcount_df.head()"
      ],
      "execution_count": null,
      "outputs": []
    },
    {
      "cell_type": "code",
      "metadata": {
        "id": "0waaur3WNlfG"
      },
      "source": [
        "# Φτιάχνουμε τις λίστες με τις συναισθηματικές λέξεις που μας ενδιαφέρουν\n",
        "\n",
        "# Λίστα με positive words\n",
        "positive_words = emolex_df[emolex_df.Positive == 1]['word']\n",
        "\n",
        "# Λίστα με angry words\n",
        "angry_words = emolex_df[emolex_df.Anger == 1]['word']\n",
        "\n",
        "# Λίστα με sadness words\n",
        "sadness_words = emolex_df[emolex_df.Sadness == 1]['word']\n",
        "\n",
        "# Λίστα με surprise words\n",
        "surprise_words = emolex_df[emolex_df.Surprise == 1]['word']\n",
        "\n",
        "# Λίστα με disgust words\n",
        "disgust_words = emolex_df[emolex_df.Disgust == 1]['word']\n",
        "\n",
        "# Λίστα με anticipation words\n",
        "anticipation_words = emolex_df[emolex_df.Anticipation == 1]['word']\n",
        "\n",
        "# Λίστα με negative words\n",
        "negative_words = emolex_df[emolex_df.Negative == 1]['word']\n",
        "\n",
        "# Λίστα με joy words\n",
        "joy_words = emolex_df[emolex_df.Joy == 1]['word']\n",
        "\n",
        "# Λίστα με trust words\n",
        "trust_words = emolex_df[emolex_df.Trust == 1]['word']\n",
        "\n",
        "# Λίστα με fear words\n",
        "fear_words = emolex_df[emolex_df.Fear == 1]['word']"
      ],
      "execution_count": null,
      "outputs": []
    },
    {
      "cell_type": "code",
      "metadata": {
        "id": "85w-ySS6NlrI"
      },
      "source": [
        "# Δημιουργούμε τις νέες στήλες του dataframe με τις συναισθηματικές λέξεις\n",
        "\n",
        "short_pfizer['anger'] = wordcount_df[angry_words].sum(axis=1)\n",
        "\n",
        "short_pfizer['positivity'] = wordcount_df[positive_words].sum(axis=1)\n",
        "\n",
        "short_pfizer['joy'] = wordcount_df[joy_words].sum(axis=1)\n",
        "\n",
        "short_pfizer['disgust'] = wordcount_df[disgust_words].sum(axis=1)\n",
        "\n",
        "short_pfizer['surprise'] = wordcount_df[surprise_words].sum(axis=1)\n",
        "\n",
        "short_pfizer['trust'] = wordcount_df[trust_words].sum(axis=1)\n",
        "\n",
        "short_pfizer['anticipation'] = wordcount_df[anticipation_words].sum(axis=1)\n",
        "\n",
        "short_pfizer['sadness'] = wordcount_df[sadness_words].sum(axis=1)\n",
        "\n",
        "short_pfizer['negative'] = wordcount_df[negative_words].sum(axis=1)\n",
        "\n",
        "short_pfizer['fear'] = wordcount_df[fear_words].sum(axis=1)"
      ],
      "execution_count": null,
      "outputs": []
    },
    {
      "cell_type": "code",
      "metadata": {
        "id": "X1lYQd1aNl0m"
      },
      "source": [
        "# Τυπώνουμε το νέο dataframe με τις στήλες των συναισθημάτων\n",
        "\n",
        "short_pfizer"
      ],
      "execution_count": null,
      "outputs": []
    },
    {
      "cell_type": "code",
      "metadata": {
        "id": "zHLFJ8I9Nl9F"
      },
      "source": [
        "short_pfizer.set_index('date' , inplace=True)"
      ],
      "execution_count": null,
      "outputs": []
    },
    {
      "cell_type": "code",
      "metadata": {
        "id": "2-OIxp0CVZ95"
      },
      "source": [
        "# Οπτικοποίηση της θετικότητας (positivity) και της αρνητικότητας (negative) για Pfizer\n",
        "\n",
        "ax = short_pfizer['positivity'].resample('D').mean().plot(figsize=(16,4), \n",
        "                                                          color = 'g', label='pos')\n",
        "short_pfizer['negative'].resample('D').mean().plot(figsize=(16,4), ax = ax, \n",
        "                                                label = 'neg',color = 'r').legend()"
      ],
      "execution_count": null,
      "outputs": []
    },
    {
      "cell_type": "code",
      "metadata": {
        "id": "L5lqaZDiVaFr"
      },
      "source": [
        "# Οπτικοποίηση της εμπιστοσύνης (trust) και του φόβου (fear) για Pfizer\n",
        "\n",
        "ax = short_pfizer['fear'].resample('D').mean().plot(figsize=(16,4), \n",
        "                                                          color = 'yellow', label='fear')\n",
        "short_pfizer['trust'].resample('D').mean().plot(figsize=(16,4), ax = ax, \n",
        "                                                label = 'trust',color = 'blue').legend()"
      ],
      "execution_count": null,
      "outputs": []
    },
    {
      "cell_type": "markdown",
      "metadata": {
        "id": "At20N-FM7zVd"
      },
      "source": [
        "10. Δημιουργήστε γραφήματα ομαδοποιώντας μέσω του resample() την πολικότητα των\n",
        "άρθρων σας ανά ημέρα/μήνα/3μηνο/έτος ανάλογα με το θέμα."
      ]
    },
    {
      "cell_type": "code",
      "metadata": {
        "id": "iaz6zBuCm80u"
      },
      "source": [
        "### Για το polarity δοκίμασα αρχικά με το λεξικό VADER και δεν μου βγήκε...Μετά το προσπάθησα ορίζοντας συνάρτηση με TextBlob, το οποίο \n",
        "### μου έτρεξε αλλά δεν γίνεται πλοτάρισμα έτσι ώστε να φανεί όντως ποιο είναι το polarity σε ένα x χρονικό διάστημα. "
      ],
      "execution_count": null,
      "outputs": []
    },
    {
      "cell_type": "code",
      "metadata": {
        "id": "UwomIrOoOgZ6"
      },
      "source": [
        "short_astrazeneca['uniq_wds'] = short_astrazeneca['text'].str.split().apply(lambda x: len(set(x)))\n",
        "short_astrazeneca['uniq_wds'].head()"
      ],
      "execution_count": null,
      "outputs": []
    },
    {
      "cell_type": "code",
      "metadata": {
        "id": "GbVLejDROgi_"
      },
      "source": [
        "from nltk.stem import PorterStemmer\n",
        "st = PorterStemmer()\n",
        "short_astrazeneca['text'].apply(lambda x: \" \".join([st.stem(word) for word in x.split()]))"
      ],
      "execution_count": null,
      "outputs": []
    },
    {
      "cell_type": "code",
      "metadata": {
        "id": "x6tluii3Ogp2"
      },
      "source": [
        "from textblob import Word\n",
        "short_astrazeneca['text'] = short_astrazeneca['text'].apply(lambda x: \" \".join([Word(word).lemmatize() for word in x.split()]))\n",
        "short_astrazeneca['text'].head()"
      ],
      "execution_count": null,
      "outputs": []
    },
    {
      "cell_type": "code",
      "metadata": {
        "id": "paiDtg6T7_D0"
      },
      "source": [
        "import nltk\n",
        "nltk.download('vader_lexicon')"
      ],
      "execution_count": null,
      "outputs": []
    },
    {
      "cell_type": "code",
      "metadata": {
        "id": "oW8cKpuC7_Ha"
      },
      "source": [
        "from nltk.sentiment.vader import SentimentIntensityAnalyzer\n",
        "sid = SentimentIntensityAnalyzer()\n",
        "\n",
        "for i in range(short_astrazeneca['text'].shape[0]): \n",
        "  short_astrazeneca['text'].loc[i, \"polarity\"] = abs(sid.polarity_scores(short_astrazeneca.loc[i, 'text'])['compound'])"
      ],
      "execution_count": null,
      "outputs": []
    },
    {
      "cell_type": "code",
      "metadata": {
        "id": "YWhLQN0bk-9x"
      },
      "source": [
        "# Το polarity για AstraZeneca\n",
        "\n",
        "from textblob import TextBlob, Word\n",
        "\n",
        "def detect_polarity(text):\n",
        "    return TextBlob(text).sentiment.polarity"
      ],
      "execution_count": null,
      "outputs": []
    },
    {
      "cell_type": "code",
      "metadata": {
        "id": "KfB_CHd0l-qJ"
      },
      "source": [
        "print(detect_polarity)"
      ],
      "execution_count": null,
      "outputs": []
    },
    {
      "cell_type": "code",
      "metadata": {
        "id": "XGAs71_so1hV"
      },
      "source": [
        "###detect_polarity.plot(kind='bar') ????  # Δοκίμασα αυτόν τον τρόπο για πλοτάρισμα, αλλά δεν δουλεύει επειδή είναι function..."
      ],
      "execution_count": null,
      "outputs": []
    },
    {
      "cell_type": "code",
      "metadata": {
        "id": "TFeS1-CPoZ2O"
      },
      "source": [
        "# Το polarity για Pfizer\n",
        "\n",
        "def detect_polarity_2(text_2): \n",
        "  return TextBlob(text_2).sentiment.polarity"
      ],
      "execution_count": null,
      "outputs": []
    },
    {
      "cell_type": "code",
      "metadata": {
        "id": "T42-nITRoui9"
      },
      "source": [
        "print(detect_polarity_2)"
      ],
      "execution_count": null,
      "outputs": []
    },
    {
      "cell_type": "markdown",
      "metadata": {
        "id": "zMtoL7mU7_sK"
      },
      "source": [
        "11. Αξιοποιήστε την διανυσματοποίηση των κειμένων σας (CountVectorizer()), και τη χρήση της\n",
        "ομοιότητας κειμένων μέσω της συνάρτησης cosine_similarity() ώστε να βρείτε άρθρα που\n",
        "έχουν μεγάλη ομοιότητα. Παρουσιάστε τη συσχέτιση αυτή μέσω γραφήματος τύπου\n",
        "heatmap."
      ]
    },
    {
      "cell_type": "markdown",
      "metadata": {
        "id": "-gAuHoQsvdLZ"
      },
      "source": [
        "## Η ομοιότητα των κειμένων για AstraZeneca"
      ]
    },
    {
      "cell_type": "code",
      "metadata": {
        "id": "RIcpdqXE8GI6"
      },
      "source": [
        "cv_astrazeneca = CountVectorizer()"
      ],
      "execution_count": null,
      "outputs": []
    },
    {
      "cell_type": "code",
      "metadata": {
        "id": "dWjSkYJB8GMw"
      },
      "source": [
        "count_vector_astrazeneca = cv_astrazeneca.fit_transform(short_astrazeneca['text'])"
      ],
      "execution_count": null,
      "outputs": []
    },
    {
      "cell_type": "code",
      "metadata": {
        "id": "8tB3x_Cnq9zb"
      },
      "source": [
        "count_vector_astrazeneca.shape"
      ],
      "execution_count": null,
      "outputs": []
    },
    {
      "cell_type": "code",
      "metadata": {
        "id": "EEzBsvBPq97K"
      },
      "source": [
        "results_astrazeneca = pd.DataFrame(count_vector_astrazeneca.toarray(), columns=cv_astrazeneca.get_feature_names()) \n",
        "\n",
        "results_astrazeneca.head()"
      ],
      "execution_count": null,
      "outputs": []
    },
    {
      "cell_type": "code",
      "metadata": {
        "id": "PK3KJqWvq-BH"
      },
      "source": [
        "from html import unescape\n",
        "def my_tokenizer(doc):\n",
        "            \n",
        "    # apply the preprocessing and tokenzation steps\n",
        "    doc_clean = unescape(doc).lower()\n",
        "    tokens = nlp(doc_clean)\n",
        "    lemmatized_tokens = [token.lemma_ for token in tokens if (len(str(token.lemma_))>2)]\n",
        "            \n",
        "    # use CountVectorizer's _word_ngrams built in method\n",
        "    # to remove stop words and extract n-grams\n",
        "    return(lemmatized_tokens)"
      ],
      "execution_count": null,
      "outputs": []
    },
    {
      "cell_type": "code",
      "metadata": {
        "id": "UtyUZXzhq-GH"
      },
      "source": [
        "cv_astrazeneca = CountVectorizer(stop_words= nlp.Defaults.stop_words, min_df=0.01, max_df=0.95, tokenizer=my_tokenizer)\n",
        "count_vector_astrazeneca = cv_astrazeneca.fit_transform(short_astrazeneca['text'])\n",
        "results_astrazeneca = pd.DataFrame(count_vector_astrazeneca.toarray(), columns=cv_astrazeneca.get_feature_names()) \n",
        "results_astrazeneca.head()"
      ],
      "execution_count": null,
      "outputs": []
    },
    {
      "cell_type": "code",
      "metadata": {
        "id": "9iXdRjxYq-NX"
      },
      "source": [
        "cv_astrazeneca = CountVectorizer(stop_words= nlp.Defaults.stop_words, max_features=20) #, tokenizer=my_tokenizer)\n",
        "count_vector_astrazeneca = cv_astrazeneca.fit_transform(short_astrazeneca['text'])\n",
        "results_astrazeneca = pd.DataFrame(count_vector_astrazeneca.toarray(), columns=cv_astrazeneca.get_feature_names()) \n",
        "results_astrazeneca.head()"
      ],
      "execution_count": null,
      "outputs": []
    },
    {
      "cell_type": "code",
      "metadata": {
        "id": "wj3_fmKVq-TY"
      },
      "source": [
        "cv_astrazeneca = CountVectorizer(stop_words= nlp.Defaults.stop_words, max_features=20, ngram_range=(2, 2) ) #token_pattern = '\\\\bκυ[α-ωά-ώ]*\\\\b') #, tokenizer=my_tokenizer)\n",
        "count_vector_astrazeneca = cv_astrazeneca.fit_transform(short_astrazeneca['text'])\n",
        "results_astrazeneca = pd.DataFrame(count_vector_astrazeneca.toarray(), columns=cv_astrazeneca.get_feature_names()) \n",
        "results_astrazeneca.head()"
      ],
      "execution_count": null,
      "outputs": []
    },
    {
      "cell_type": "code",
      "metadata": {
        "id": "-DeciHKcq-Yp"
      },
      "source": [
        "# Εδώ, τυπώνει τα διγράμματα για το AstraZeneca που δεν μπόρεσα να βρω πιο πάνω!\n",
        "\n",
        "results_astrazeneca.sum(axis =0).sort_values(ascending = False)"
      ],
      "execution_count": null,
      "outputs": []
    },
    {
      "cell_type": "code",
      "metadata": {
        "id": "ouEnL-wiq-dk"
      },
      "source": [
        "sum_words_astrazeneca =  results_astrazeneca.sum(axis =0)\n",
        "sum_words_astrazeneca.sort_values(ascending = False).head() "
      ],
      "execution_count": null,
      "outputs": []
    },
    {
      "cell_type": "code",
      "metadata": {
        "id": "JNawUDzKq-i-"
      },
      "source": [
        "cv_astrazeneca = CountVectorizer(stop_words= nlp.Defaults.stop_words, max_features=20, #ngram_range=(1, 2), \n",
        " #                    token_pattern = '(\\\\bκ[οω]ρ[οω]ν[α-ωά-ώ]+\\\\b') )\\| (\\\\bκυβ[α-ωά-ώ]\\\\b) #, tokenizer=my_tokenizer)\n",
        "                     token_pattern = '\\\\bcov[a-z0-9-_]*\\\\b') #, tokenizer=my_tokenizer)\n",
        "count_vector_astrazeneca = cv_astrazeneca.fit_transform(short_astrazeneca['text'])\n",
        "results_astrazeneca = pd.DataFrame(count_vector_astrazeneca.toarray(), columns=cv_astrazeneca.get_feature_names()) \n",
        "results_astrazeneca.head()"
      ],
      "execution_count": null,
      "outputs": []
    },
    {
      "cell_type": "code",
      "metadata": {
        "id": "4auG7FW-q-od"
      },
      "source": [
        "results_astrazeneca.sum(axis =0).sort_values(ascending = False)"
      ],
      "execution_count": null,
      "outputs": []
    },
    {
      "cell_type": "code",
      "metadata": {
        "id": "7IbZuzM8wGZ6"
      },
      "source": [
        "cv_astrazeneca = CountVectorizer(stop_words= nlp.Defaults.stop_words, max_features=20, #ngram_range=(1, 2), \n",
        "                     vocabulary = ['ΑστραΖένεκα', 'αστραζένεκα']) #, tokenizer=my_tokenizer)\n",
        "count_vector_astrazeneca = cv_astrazeneca.fit_transform(short_astrazeneca['text'])\n",
        "results_astrazeneca = pd.DataFrame(count_vector_astrazeneca.toarray(), columns=cv_astrazeneca.get_feature_names()) \n",
        "results_astrazeneca.head()"
      ],
      "execution_count": null,
      "outputs": []
    },
    {
      "cell_type": "code",
      "metadata": {
        "id": "aYWW8y-PwGgx"
      },
      "source": [
        "from sklearn.feature_extraction.text import TfidfVectorizer"
      ],
      "execution_count": null,
      "outputs": []
    },
    {
      "cell_type": "code",
      "metadata": {
        "id": "14pfuSBBwGmy"
      },
      "source": [
        "tfidf_vectorizer = TfidfVectorizer(stop_words= nlp.Defaults.stop_words, max_features=500)\n",
        "tfidf_matrix_train = tfidf_vectorizer.fit_transform(short_astrazeneca['text'])  #finds the tfidf score with normalization"
      ],
      "execution_count": null,
      "outputs": []
    },
    {
      "cell_type": "code",
      "metadata": {
        "id": "srdYGuBKwGsL"
      },
      "source": [
        "results_astrazeneca = pd.DataFrame(tfidf_matrix_train.toarray(), columns=tfidf_vectorizer.get_feature_names()) \n",
        "results_astrazeneca.head()"
      ],
      "execution_count": null,
      "outputs": []
    },
    {
      "cell_type": "code",
      "metadata": {
        "id": "9l2JbwjMwG0W"
      },
      "source": [
        "from sklearn.metrics.pairwise import cosine_similarity\n",
        "\n",
        "print(\"cosine scores ==> \",cosine_similarity(tfidf_matrix_train[0:1], tfidf_matrix_train))  #here the first element of tfidf_matrix_train is matched with other three elements"
      ],
      "execution_count": null,
      "outputs": []
    },
    {
      "cell_type": "code",
      "metadata": {
        "id": "Z-feg1y6wxnL"
      },
      "source": [
        "print(\"cosine scores ==> \",cosine_similarity(tfidf_matrix_train, tfidf_matrix_train))  #here the first element of tfidf_matrix_train is matched with other three elements"
      ],
      "execution_count": null,
      "outputs": []
    },
    {
      "cell_type": "code",
      "metadata": {
        "id": "CsTNdJMAwxuZ"
      },
      "source": [
        "arr = cosine_similarity(tfidf_matrix_train, tfidf_matrix_train)"
      ],
      "execution_count": null,
      "outputs": []
    },
    {
      "cell_type": "code",
      "metadata": {
        "id": "i2gAF2NKxBqc"
      },
      "source": [
        "pd.DataFrame(arr).loc[3].sort_values(ascending = False).head(20).plot(kind = 'bar')"
      ],
      "execution_count": null,
      "outputs": []
    },
    {
      "cell_type": "markdown",
      "metadata": {
        "id": "KcbGRTqYvR0W"
      },
      "source": [
        "## Η ομοιότητα των κειμένων για Pfizer"
      ]
    },
    {
      "cell_type": "code",
      "metadata": {
        "id": "lyLMpNndvZGS"
      },
      "source": [
        "cv_pfizer = CountVectorizer()"
      ],
      "execution_count": null,
      "outputs": []
    },
    {
      "cell_type": "code",
      "metadata": {
        "id": "qZFsPnOevZLv"
      },
      "source": [
        "count_vector_pfizer = cv_pfizer.fit_transform(short_pfizer['text'])"
      ],
      "execution_count": null,
      "outputs": []
    },
    {
      "cell_type": "code",
      "metadata": {
        "id": "NckHm9BNvZSU"
      },
      "source": [
        "count_vector_pfizer.shape"
      ],
      "execution_count": null,
      "outputs": []
    },
    {
      "cell_type": "code",
      "metadata": {
        "id": "Opq_97PyvZXf"
      },
      "source": [
        "results_pfizer = pd.DataFrame(count_vector_pfizer.toarray(), columns=cv_pfizer.get_feature_names()) \n",
        "\n",
        "results_pfizer.head()"
      ],
      "execution_count": null,
      "outputs": []
    },
    {
      "cell_type": "code",
      "metadata": {
        "id": "qd8tPL3YvZcW"
      },
      "source": [
        "from html import unescape\n",
        "def my_tokenizer_2(doc_2):\n",
        "            \n",
        "    # apply the preprocessing and tokenzation steps\n",
        "    doc_clean = unescape(doc_2).lower()\n",
        "    tokens = nlp(doc_clean)\n",
        "    lemmatized_tokens = [token.lemma_ for token in tokens if (len(str(token.lemma_))>2)]\n",
        "            \n",
        "    # use CountVectorizer's _word_ngrams built in method\n",
        "    # to remove stop words and extract n-grams\n",
        "    return(lemmatized_tokens)"
      ],
      "execution_count": null,
      "outputs": []
    },
    {
      "cell_type": "code",
      "metadata": {
        "id": "mY_MYdOcvZhI"
      },
      "source": [
        "cv_pfizer = CountVectorizer(stop_words= nlp.Defaults.stop_words, min_df=0.01, max_df=0.95, tokenizer=my_tokenizer_2)\n",
        "count_vector_pfizer = cv_pfizer.fit_transform(short_pfizer['text'])\n",
        "results_pfizer = pd.DataFrame(count_vector_pfizer.toarray(), columns=cv_pfizer.get_feature_names()) \n",
        "results_pfizer.head()"
      ],
      "execution_count": null,
      "outputs": []
    },
    {
      "cell_type": "code",
      "metadata": {
        "id": "Ao0l1gVjvZmw"
      },
      "source": [
        "cv_pfizer = CountVectorizer(stop_words= nlp.Defaults.stop_words, max_features=20) #, tokenizer=my_tokenizer)\n",
        "count_vector_pfizer = cv_pfizer.fit_transform(short_pfizer['text'])\n",
        "results_pfizer = pd.DataFrame(count_vector_pfizer.toarray(), columns=cv_pfizer.get_feature_names()) \n",
        "results_pfizer.head()"
      ],
      "execution_count": null,
      "outputs": []
    },
    {
      "cell_type": "code",
      "metadata": {
        "id": "-yVDFpPwvZrz"
      },
      "source": [
        "cv_pfizer = CountVectorizer(stop_words= nlp.Defaults.stop_words, max_features=20, ngram_range=(2, 2) ) #token_pattern = '\\\\bκυ[α-ωά-ώ]*\\\\b') #, tokenizer=my_tokenizer)\n",
        "count_vector_pfizer = cv_pfizer.fit_transform(short_pfizer['text'])\n",
        "results_pfizer = pd.DataFrame(count_vector_pfizer.toarray(), columns=cv_pfizer.get_feature_names()) \n",
        "results_pfizer.head()"
      ],
      "execution_count": null,
      "outputs": []
    },
    {
      "cell_type": "code",
      "metadata": {
        "id": "eEbFU3qwvZxM"
      },
      "source": [
        "# Εδώ, τυπώνει τα διγράμματα για το Pfizer (από το προηγούμενο ερώτημα)\n",
        "\n",
        "results_pfizer.sum(axis =0).sort_values(ascending = False)"
      ],
      "execution_count": null,
      "outputs": []
    },
    {
      "cell_type": "code",
      "metadata": {
        "id": "C9BaXkH1vZ19"
      },
      "source": [
        "sum_words_pfizer =  results_pfizer.sum(axis =0)\n",
        "sum_words_pfizer.sort_values(ascending = False).head() "
      ],
      "execution_count": null,
      "outputs": []
    },
    {
      "cell_type": "code",
      "metadata": {
        "id": "8EdoH-o09S2J"
      },
      "source": [
        "cv_pfizer = CountVectorizer(stop_words= nlp.Defaults.stop_words, max_features=20, #ngram_range=(1, 2), \n",
        " #                    token_pattern = '(\\\\bκ[οω]ρ[οω]ν[α-ωά-ώ]+\\\\b') )\\| (\\\\bκυβ[α-ωά-ώ]\\\\b) #, tokenizer=my_tokenizer)\n",
        "                     token_pattern = '\\\\bcov[a-z0-9-_]*\\\\b') #, tokenizer=my_tokenizer)\n",
        "count_vector_pfizer = cv_pfizer.fit_transform(short_pfizer['text'])\n",
        "results_pfizer = pd.DataFrame(count_vector_pfizer.toarray(), columns=cv_pfizer.get_feature_names()) \n",
        "results_pfizer.head()"
      ],
      "execution_count": null,
      "outputs": []
    },
    {
      "cell_type": "code",
      "metadata": {
        "id": "UhDhKmwn9S8R"
      },
      "source": [
        "results_pfizer.sum(axis =0).sort_values(ascending = False)"
      ],
      "execution_count": null,
      "outputs": []
    },
    {
      "cell_type": "code",
      "metadata": {
        "id": "UbSSFwGO9TC2"
      },
      "source": [
        "cv_pfizer = CountVectorizer(stop_words= nlp.Defaults.stop_words, max_features=20, #ngram_range=(1, 2), \n",
        "                     vocabulary = ['Φάιζερ', 'φάιζερ']) #, tokenizer=my_tokenizer)\n",
        "count_vector_pfizer = cv_pfizer.fit_transform(short_pfizer['text'])\n",
        "results_pfizer = pd.DataFrame(count_vector_pfizer.toarray(), columns=cv_pfizer.get_feature_names()) \n",
        "results_pfizer.head()"
      ],
      "execution_count": null,
      "outputs": []
    },
    {
      "cell_type": "code",
      "metadata": {
        "id": "B8dkVd0q9TKC"
      },
      "source": [
        "from sklearn.feature_extraction.text import TfidfVectorizer"
      ],
      "execution_count": null,
      "outputs": []
    },
    {
      "cell_type": "code",
      "metadata": {
        "id": "CwgPOXxTvZ62"
      },
      "source": [
        "tfidf_vectorizer_2 = TfidfVectorizer(stop_words= nlp.Defaults.stop_words, max_features=500)\n",
        "tfidf_matrix_train_2 = tfidf_vectorizer_2.fit_transform(short_pfizer['text'])  #finds the tfidf score with normalization"
      ],
      "execution_count": null,
      "outputs": []
    },
    {
      "cell_type": "code",
      "metadata": {
        "id": "GCxmcw5A-dP9"
      },
      "source": [
        "results_pfizer = pd.DataFrame(tfidf_matrix_train_2.toarray(), columns=tfidf_vectorizer_2.get_feature_names()) \n",
        "results_pfizer.head()"
      ],
      "execution_count": null,
      "outputs": []
    },
    {
      "cell_type": "code",
      "metadata": {
        "id": "z8ghyW1X-dWL"
      },
      "source": [
        "from sklearn.metrics.pairwise import cosine_similarity\n",
        "\n",
        "print(\"cosine scores ==> \",cosine_similarity(tfidf_matrix_train_2[0:1], tfidf_matrix_train_2))  #here the first element of tfidf_matrix_train is matched with other three elements"
      ],
      "execution_count": null,
      "outputs": []
    },
    {
      "cell_type": "code",
      "metadata": {
        "id": "6Gb3M7F2-dg9"
      },
      "source": [
        "print(\"cosine scores ==> \",cosine_similarity(tfidf_matrix_train_2, tfidf_matrix_train_2))  #here the first element of tfidf_matrix_train is matched with other three elements"
      ],
      "execution_count": null,
      "outputs": []
    },
    {
      "cell_type": "code",
      "metadata": {
        "id": "_hgy5fpE-dme"
      },
      "source": [
        "arr_2 = cosine_similarity(tfidf_matrix_train_2, tfidf_matrix_train_2)"
      ],
      "execution_count": null,
      "outputs": []
    },
    {
      "cell_type": "code",
      "metadata": {
        "id": "MyFUw69Q-dtt"
      },
      "source": [
        "pd.DataFrame(arr_2).loc[3].sort_values(ascending = False).head(20).plot(kind = 'bar')"
      ],
      "execution_count": null,
      "outputs": []
    },
    {
      "cell_type": "markdown",
      "metadata": {
        "id": "3KI-awu08Gh8"
      },
      "source": [
        "12. Ανεβάστε τα γραφήματα που κατασκευάσατε στο site: http://helios.media.uoa.gr/datajour/\n",
        "φτιάχνοντας μια ιστορία (τουλάχιστον 800 λέξεις), αναφέροντας το όνομά σας. Βελτιώστε\n",
        "όπου είναι δυνατόν την ποιότητα των γραφημάτων μέσω προγραμμάτων όπως το flourish,\n",
        "datawrapper κ.λπ."
      ]
    },
    {
      "cell_type": "code",
      "metadata": {
        "id": "k1xF8y988Qhk"
      },
      "source": [
        ""
      ],
      "execution_count": null,
      "outputs": []
    },
    {
      "cell_type": "markdown",
      "metadata": {
        "id": "c68vFYbd8S0s"
      },
      "source": [
        "13. Ο κώδικάς σας μαζί με τα δεδομένα θα ανέβει στον προσωπικό σας λογαριασμό στο github\n",
        "(αν τα δεδομένα υπερβαίνουν το όριο, βάλτε απλά ένα δείγμα ώστε να τρέχει ο κώδικας)."
      ]
    },
    {
      "cell_type": "code",
      "metadata": {
        "id": "MoS307nP8bMF"
      },
      "source": [
        ""
      ],
      "execution_count": null,
      "outputs": []
    },
    {
      "cell_type": "markdown",
      "metadata": {
        "id": "dBE2RVhw8eg0"
      },
      "source": [
        "14. Το άρθρο σας σε μορφή pdf με τίτλο Eponimo_teliki_ergasia.zip μαζί με το link για τον\n",
        "κώδικα (github) θα ανέβει στο eclass. "
      ]
    },
    {
      "cell_type": "code",
      "metadata": {
        "id": "6Ib-HF0p8j3m"
      },
      "source": [
        ""
      ],
      "execution_count": null,
      "outputs": []
    }
  ]
}